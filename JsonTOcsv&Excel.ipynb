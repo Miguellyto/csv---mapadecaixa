{
 "cells": [
  {
   "cell_type": "code",
   "execution_count": null,
   "id": "0e0fefbc",
   "metadata": {},
   "outputs": [],
   "source": [
    "# pip install lxml bs4 html5lib selenium requests\n",
    "# from selenium import webdriver\n",
    "# import lxml\n",
    "import pandas as pd\n",
    "import numpy as np\n",
    "import os\n",
    "from pathlib import Path\n",
    "import html5lib \n",
    "from bs4 import BeautifulSoup\n",
    "import re\n",
    "import requests"
   ]
  },
  {
   "cell_type": "code",
   "execution_count": null,
   "id": "3fe7f76d",
   "metadata": {},
   "outputs": [],
   "source": [
    "# LENDO FILE JSON PARA UM DATAFRAME\n",
    "mapa=pd.read_json(\"https://servicodados.ibge.gov.br/api/v1/censos/nomes/ranking?qtd=20&sexo=f\")\n",
    "# mapa=pd.read_json(\"http://jsonplaceholder.typicode.com/users/\")\n",
    "# mapa=pd.read_json(\"https://jsonplaceholder.typicode.com/posts/\")\n",
    "mapa"
   ]
  },
  {
   "cell_type": "code",
   "execution_count": null,
   "id": "215c66d8",
   "metadata": {},
   "outputs": [],
   "source": [
    "namefile = input(\"Digite a Série/Filme: \")\n",
    "# Lista['NOME'] = namefile"
   ]
  },
  {
   "cell_type": "code",
   "execution_count": null,
   "id": "e49c5569",
   "metadata": {},
   "outputs": [],
   "source": [
    "# SALVANDO O FILE JSON EM CSV\n",
    "mapa.to_csv(namefile+'.csv', index=False) # O Index false, remove a coluna de indice que o dataframe cria no inicio."
   ]
  },
  {
   "cell_type": "code",
   "execution_count": null,
   "id": "372fdfee",
   "metadata": {},
   "outputs": [],
   "source": [
    "# SALVANDO O FILE JSON EM EXCEL\n",
    "mapa.to_excel(namefile+'.xlsx', index=False) # O Index false, remove a coluna de indice que o dataframe cria no inicio."
   ]
  }
 ],
 "metadata": {
  "kernelspec": {
   "display_name": "Python 3 (ipykernel)",
   "language": "python",
   "name": "python3"
  },
  "language_info": {
   "codemirror_mode": {
    "name": "ipython",
    "version": 3
   },
   "file_extension": ".py",
   "mimetype": "text/x-python",
   "name": "python",
   "nbconvert_exporter": "python",
   "pygments_lexer": "ipython3",
   "version": "3.10.2"
  }
 },
 "nbformat": 4,
 "nbformat_minor": 5
}
