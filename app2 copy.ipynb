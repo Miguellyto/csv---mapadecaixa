{
 "cells": [
  {
   "cell_type": "code",
   "execution_count": null,
   "id": "0e0fefbc",
   "metadata": {},
   "outputs": [],
   "source": [
    "# from cgitb import text\n",
    "# from distutils.command.upload import upload \n",
    "import pandas as pd\n",
    "import numpy as np\n",
    "import os\n",
    "# import sys\n",
    "import tkinter as tk\n",
    "from pathlib import Path\n",
    "from  tkinter import*\n",
    "import tkinter.messagebox\n",
    "from tkinter import filedialog\n",
    "# from PIL import ImageTk, Image"
   ]
  },
  {
   "cell_type": "code",
   "execution_count": null,
   "id": "7285fed6",
   "metadata": {},
   "outputs": [],
   "source": [
    "# mapadecaixa = pd.read_csv(os.getcwd() + \"\\\\Movimentação geral (2).csv\", encoding='ANSI', sep=',', header=0, thousands = '.', decimal = ',', dtype = {'Valor':np.float64})\n",
    "# mapadecaixa = pd.read_csv(os.getcwd() + \"\\\\Movimentação geral com 3ag.csv\", encoding='ANSI', sep=',', header=0, thousands = '.', decimal = ',', dtype = {'Valor':np.float64})\n",
    "mapadecaixa = pd.read_csv(os.getcwd() + \"\\\\Movimentação geral LJ 880 CSV.csv\", encoding='ANSI', sep=',', header=0, thousands = '.', decimal = ',', dtype = {'Valor':np.float64})\n",
    "# 'skiprows=20' pula as 20 primeiras linhas. 'skiprows=[ 0, 2, 4, 10 ]', pula as linhas de índice 0, 2, 4 e 10.\n",
    "# pd.set_option('display.max_columns', None)\n",
    "# mapadecaixa.head(38) # O número indica a quantidade de linha que a ser exibida.\n",
    "# mapadecaixa.head()\n",
    "mapadecaixa"
   ]
  },
  {
   "cell_type": "code",
   "execution_count": null,
   "id": "8251098b",
   "metadata": {},
   "outputs": [],
   "source": [
    "#---Verificando o tipo da coluna\n",
    "mapadecaixa.dtypes\n",
    "# mapadecaixa"
   ]
  },
  {
   "cell_type": "code",
   "execution_count": null,
   "id": "c4a01a48",
   "metadata": {},
   "outputs": [],
   "source": [
    "# 3 agrupamento\n",
    "# quando 3 agrupamento for Cartão de Crédito e 4 agrupamento=vazio faça = Cart Hipercard Pagseguro;10221\n",
    "# quando 3 agrupamento for Cartão de Débito e 4 agrupamento=vazio faça = Cart Maestro Pagseguro;10221\n",
    "for index, row in mapadecaixa.iterrows():\n",
    "    if row['3o. Agrupamento'] == 'Cartão de Crédito':\n",
    "        mapadecaixa.loc[index, '4o. Agrupamento'] = 'Cart Hipercard Pagseguro;10221'\n",
    "    elif row['3o. Agrupamento'] == 'Cartão de Débito':\n",
    "        mapadecaixa.loc[index, '4o. Agrupamento'] = 'Cart Maestro Pagseguro;10221'\n",
    "\n",
    "mapadecaixa"
   ]
  },
  {
   "cell_type": "code",
   "execution_count": null,
   "id": "50e5b0d8",
   "metadata": {},
   "outputs": [],
   "source": [
    "#---- Exibe apenas valores que começa com 'RC'\n",
    "mapadecaixa[mapadecaixa['3o. Agrupamento'].str.startswith('Cheque à vista')]"
   ]
  },
  {
   "cell_type": "code",
   "execution_count": null,
   "id": "089505f7",
   "metadata": {},
   "outputs": [],
   "source": [
    "#---- MOSTRA A QUANTIDADE DE LINHAS E COLUNAS\n",
    "mapadecaixa.shape"
   ]
  },
  {
   "cell_type": "code",
   "execution_count": null,
   "id": "11b4aa8d",
   "metadata": {},
   "outputs": [],
   "source": [
    "# Dividindo a coluna '4o. Agrupamento' em '4o. Agrupamento' e 'DEBITO' onde se encontra o ponto e virgula ';'\n",
    "# O (.str.replace) pra retirar os - e\n",
    "mapadecaixa[['4o. Agrupamento','DEBITO']] = mapadecaixa['4o. Agrupamento'].str.split(';', expand=True)\n",
    "# mapadecaixa.head(38)\n",
    "# mapadecaixa.head()\n",
    "mapadecaixa"
   ]
  },
  {
   "cell_type": "code",
   "execution_count": null,
   "id": "732c7027",
   "metadata": {},
   "outputs": [],
   "source": [
    "# 3 agrupamento\n",
    "for index, row in mapadecaixa.iterrows():\n",
    "    if row['3o. Agrupamento'] == 'Duplicata':\n",
    "        mapadecaixa.loc[index, 'DEBITO'] = '10265'\n",
    "    elif row['3o. Agrupamento'] == 'Crédito Bancário':\n",
    "        mapadecaixa.loc[index, 'DEBITO'] = '10265'\n",
    "    elif row['3o. Agrupamento'] == 'Cheque à vista':\n",
    "        mapadecaixa.loc[index, 'DEBITO'] = '10267'\n",
    "\n",
    "mapadecaixa.head(38)"
   ]
  },
  {
   "cell_type": "code",
   "execution_count": null,
   "id": "0b0f021b",
   "metadata": {},
   "outputs": [],
   "source": [
    "mapadecaixa"
   ]
  },
  {
   "cell_type": "code",
   "execution_count": null,
   "id": "a8edaff8",
   "metadata": {},
   "outputs": [],
   "source": [
    "#--- 3 agrupamento\n",
    "# quando for DUPLICATA a conta \"DEBITO\" = 10265\n",
    "# quando for CRÉDITO BANCÁRIO a conta \"DEBITO\" = 10265\n",
    "# quando for CHEQUE A VISTA a conta \"DEBITO\" = 10267\n",
    "for index, row in mapadecaixa.iterrows():\n",
    "    if row['3o. Agrupamento'] == 'Duplicata':\n",
    "        mapadecaixa.loc[index, 'DEBITO'] = '10265'\n",
    "    if row['3o. Agrupamento'] == 'Crédito Bancário':\n",
    "        mapadecaixa.loc[index, 'DEBITO'] = '10265'\n",
    "    if row['3o. Agrupamento'] == 'Cheque à vista':\n",
    "        mapadecaixa.loc[index, 'DEBITO'] = '10267'\n",
    "\n",
    "mapadecaixa.head(38)\n",
    "# mapadecaixa.loc['3o. Agrupamento'] == 'Duplicata'\n"
   ]
  },
  {
   "cell_type": "code",
   "execution_count": null,
   "id": "8b3fbf88",
   "metadata": {},
   "outputs": [],
   "source": [
    "# mapadecaixa[mapadecaixa['3o. Agrupamento'].str.startswith('Duplicata')] and mapadecaixa[mapadecaixa['3o. Agrupamento'].str.startswith('Crédito Bancário')],\n",
    "# mapadecaixa[mapadecaixa['3o. Agrupamento'].str.startswith('Cheque à vista')]"
   ]
  },
  {
   "cell_type": "code",
   "execution_count": null,
   "id": "419d8777",
   "metadata": {},
   "outputs": [],
   "source": [
    "# ----mapadecaixa.head(38)\n",
    "\n",
    "# Exibe valores que contenha 'RC'\n",
    "# mapadecaixa[mapadecaixa['Descrição'].str.contains('RC')]\n",
    "\n",
    "# Exibe apenas valores que começa com 'RC'\n",
    "# mapadecaixa[mapadecaixa['3o. Agrupamento'].str.startswith('Duplicata')]\n",
    "mapadecaixa[mapadecaixa['3o. Agrupamento'].str.startswith('Cheque à vista')]"
   ]
  },
  {
   "cell_type": "code",
   "execution_count": null,
   "id": "5e260c14",
   "metadata": {},
   "outputs": [],
   "source": [
    "# 4 agrupamento\n",
    "for index, row in mapadecaixa.iterrows():\n",
    "    if row['4o. Agrupamento'] == 'Carteira Cobrança Simples':\n",
    "        mapadecaixa.loc[index, 'DEBITO'] = '45534'\n",
    "    elif row['4o. Agrupamento'] == 'Cart Credito Garantia':\n",
    "        mapadecaixa.loc[index, 'DEBITO'] = '344640'"
   ]
  },
  {
   "cell_type": "code",
   "execution_count": null,
   "id": "4690921a",
   "metadata": {},
   "outputs": [],
   "source": [
    "#---- 4 agrupamento\n",
    "# quando for \"Carteira Cobrança Simples\" a conta \"DEBITO\" = 45534\n",
    "# quando for \"Cart Credito Garantia\" a conta \"DEBITO\" = 344640\n",
    "for index, row in mapadecaixa.iterrows():\n",
    "    if row['4o. Agrupamento'] == 'Carteira Cobrança Simples':\n",
    "        mapadecaixa.loc[index, 'DEBITO'] = '45534'\n",
    "    if row['4o. Agrupamento'] == 'Cart Credito Garantia':\n",
    "        mapadecaixa.loc[index, 'DEBITO'] = '344640'"
   ]
  },
  {
   "cell_type": "code",
   "execution_count": null,
   "id": "521a195b",
   "metadata": {},
   "outputs": [],
   "source": [
    "mapadecaixa.head(38)"
   ]
  },
  {
   "cell_type": "code",
   "execution_count": null,
   "id": "a1f93173",
   "metadata": {},
   "outputs": [],
   "source": [
    "# CRIANDO A COLUNA 'CREDITO'\n",
    "mapadecaixa['CREDITO'] = '10164' \n",
    "mapadecaixa"
   ]
  },
  {
   "cell_type": "code",
   "execution_count": null,
   "id": "90ea3f20",
   "metadata": {},
   "outputs": [],
   "source": [
    "#---Verificando o tipo da coluna\n",
    "mapadecaixa.dtypes"
   ]
  },
  {
   "cell_type": "code",
   "execution_count": null,
   "id": "b29dd2cc",
   "metadata": {},
   "outputs": [],
   "source": [
    "#---Alterando o tipo de dados da coluna\n",
    "mapadecaixa['Descrição'] = mapadecaixa['Descrição'].astype('string') "
   ]
  },
  {
   "cell_type": "code",
   "execution_count": null,
   "id": "81df82c7",
   "metadata": {},
   "outputs": [],
   "source": [
    "#---Verificando o tipo da coluna\n",
    "mapadecaixa.dtypes"
   ]
  },
  {
   "cell_type": "code",
   "execution_count": null,
   "id": "92cc01b1",
   "metadata": {},
   "outputs": [],
   "source": [
    "# DESCRIÇÃO\n",
    "# quando na DESCRIÇÃO conter \"RC*\" a conta a CRÉDITO = 31472\n",
    "for index, row in mapadecaixa.iterrows():\n",
    "    # if row['Descrição'] == 'RC':\n",
    "    # if mapadecaixa.loc[mapadecaixa['Descrição'].str.contains('RC', case=False, na=False)]:\n",
    "    # if mapadecaixa[mapadecaixa['Descrição'].str.contains('RC')].any():\n",
    "    # if mapadecaixa.index['Descrição'].str.contains('RC'):\n",
    "    # if mapadecaixa['Descrição'].str.contains('RC').all():\n",
    "    # if row['Descrição'].str.contains('RC'):\n",
    "    # if \"RC \" in mapadecaixa[\"Descrição\"].values:\n",
    "    if row['Descrição'].startswith('RC'):\n",
    "    # if row['Descrição'].str.match('RC'):\n",
    "    # if row[mapadecaixa[mapadecaixa['Descrição'].str.startswith('RC')]]:\n",
    "        mapadecaixa.loc[index, 'CREDITO'] = '31472'\n",
    "\n",
    "mapadecaixa"
   ]
  },
  {
   "cell_type": "code",
   "execution_count": null,
   "id": "3e4572cf",
   "metadata": {},
   "outputs": [],
   "source": [
    "#----Exibe valores que contenha 'RC'\n",
    "mapadecaixa[mapadecaixa['Descrição'].str.contains('RC')]\n",
    "\n",
    "# Exibe apenas valores que começa com 'RC'\n",
    "# mapadecaixa[mapadecaixa['Descrição'].str.startswith('RC')]"
   ]
  },
  {
   "cell_type": "code",
   "execution_count": null,
   "id": "4181081e",
   "metadata": {},
   "outputs": [],
   "source": [
    "mapadecaixa"
   ]
  },
  {
   "cell_type": "code",
   "execution_count": null,
   "id": "7e52582b",
   "metadata": {},
   "outputs": [],
   "source": [
    "# Criando nova coluna\n",
    "mapadecaixa['NEWCOLUN'] = ''\n",
    "for index, row in mapadecaixa.iterrows():\n",
    "    if row['3o. Agrupamento'] == 'Duplicata':\n",
    "        mapadecaixa.loc[index,'NEWCOLUN'] =  str(mapadecaixa.loc[index,'3o. Agrupamento']) + ' - ' + str(mapadecaixa.loc[index,'Cliente'])\n",
    "    elif row['3o. Agrupamento'] == 'Crédito Bancário':\n",
    "        mapadecaixa.loc[index,'NEWCOLUN'] =  str(mapadecaixa.loc[index,'3o. Agrupamento']) + ' - ' + str(mapadecaixa.loc[index,'Cliente'])\n",
    "    elif row['3o. Agrupamento'] == 'Cheque à vista':\n",
    "        mapadecaixa.loc[index,'NEWCOLUN'] =  str(mapadecaixa.loc[index,'3o. Agrupamento']) + ' - ' + str(mapadecaixa.loc[index,'Cliente'])"
   ]
  },
  {
   "cell_type": "code",
   "execution_count": null,
   "id": "0e811102",
   "metadata": {},
   "outputs": [],
   "source": [
    "#---- Criando nova coluna\n",
    "mapadecaixa['NEWCOLUN'] = ''\n",
    "# onde na coluna '3o. Agrupamento' for = 'Duplicata' faça '3o. Agrupamento' + 'Cliente'\n",
    "# onde na coluna '3o. Agrupamento' for = 'Crédito bancario' faça '3o. Agrupamento' + 'Cliente'\n",
    "# onde na coluna '3o. Agrupamento' for = 'Cheque à vista' faça '3o. Agrupamento' + 'Cliente'\n",
    "# Fazendo a iteração:\n",
    "for index, row in mapadecaixa.iterrows():\n",
    "    if row['3o. Agrupamento'] == 'Duplicata':\n",
    "        mapadecaixa.loc[index,'NEWCOLUN'] =  str(mapadecaixa.loc[index,'3o. Agrupamento']) + ' - ' + str(mapadecaixa.loc[index,'Cliente'])\n",
    "    if row['3o. Agrupamento'] == 'Crédito Bancário':\n",
    "        mapadecaixa.loc[index,'NEWCOLUN'] =  str(mapadecaixa.loc[index,'3o. Agrupamento']) + ' - ' + str(mapadecaixa.loc[index,'Cliente'])\n",
    "    if row['3o. Agrupamento'] == 'Cheque à vista':\n",
    "        mapadecaixa.loc[index,'NEWCOLUN'] =  str(mapadecaixa.loc[index,'3o. Agrupamento']) + ' - ' + str(mapadecaixa.loc[index,'Cliente'])\n",
    "\n"
   ]
  },
  {
   "cell_type": "code",
   "execution_count": null,
   "id": "5e44886e",
   "metadata": {},
   "outputs": [],
   "source": [
    "# mapadecaixa.head()\n",
    "# mapadecaixa.head(38)\n",
    "#----Exibe valores que contenha 'RC'\n",
    "mapadecaixa[mapadecaixa['3o. Agrupamento'].str.contains('Duplicata')]"
   ]
  },
  {
   "cell_type": "code",
   "execution_count": null,
   "id": "bd92d467",
   "metadata": {},
   "outputs": [],
   "source": [
    "#----Ordena todas as linhas do DataFrame do maior para o menor\n",
    "# O ignore_index=True permanece com o indece sempre em ordem independente se o ASCENDING seja FALSE ou TRUE.\n",
    "# O na_position='first' ordena as linhas vázias/NULAS nas primeiras posições.\n",
    "# O inplace=True grava a mudança no DataFrame\n",
    "mapadecaixa.sort_values(['4o. Agrupamento', 'Descrição', 'Cliente', 'Emissão', 'Valor'], ascending=False, ignore_index=True, na_position='first')"
   ]
  },
  {
   "cell_type": "code",
   "execution_count": null,
   "id": "f7f9b512",
   "metadata": {},
   "outputs": [],
   "source": [
    "mapadecaixa.head()"
   ]
  },
  {
   "cell_type": "code",
   "execution_count": null,
   "id": "fd42c04a",
   "metadata": {},
   "outputs": [],
   "source": [
    "#---- verificando o tipo de dados das colunas\n",
    "mapadecaixa.dtypes"
   ]
  },
  {
   "cell_type": "code",
   "execution_count": null,
   "id": "70cc3f2c",
   "metadata": {},
   "outputs": [],
   "source": [
    "#---Alterando o tipo de dados da coluna\n",
    "mapadecaixa['4o. Agrupamento'] = mapadecaixa['4o. Agrupamento'].astype('string') "
   ]
  },
  {
   "cell_type": "code",
   "execution_count": null,
   "id": "7c1cac76",
   "metadata": {},
   "outputs": [],
   "source": [
    "#---- verificando o tipo de dados das colunas\n",
    "mapadecaixa.dtypes"
   ]
  },
  {
   "cell_type": "code",
   "execution_count": null,
   "id": "d0f5573a",
   "metadata": {},
   "outputs": [],
   "source": [
    "# O (.str.replace) pra retirar os - e \n",
    "# mapadecaixa[['4o. Agrupamento','DEBITO']] = mapadecaixa['4o. Agrupamento'].str.split(';', expand=True)\n",
    "\n",
    "# mapadecaixa.head(38)"
   ]
  },
  {
   "cell_type": "code",
   "execution_count": null,
   "id": "c434e4ee",
   "metadata": {},
   "outputs": [],
   "source": [
    "# mapadecaixa\n",
    "mapadecaixa.head(40)"
   ]
  },
  {
   "cell_type": "code",
   "execution_count": null,
   "id": "1b488344",
   "metadata": {},
   "outputs": [],
   "source": [
    "# CRIANDO A COLUNA 'FILIAL'\n",
    "mapadecaixa['FILIAL'] = ''"
   ]
  },
  {
   "cell_type": "code",
   "execution_count": null,
   "id": "aff8b140",
   "metadata": {},
   "outputs": [],
   "source": [
    "# MESCLANDO OS CONTEÚDO DA COLUNA 'HISTORIOC', 'NEWCOLUN' e 'Descrição'\n",
    "# mapadecaixa['HISTORICO'] = '10.01'+ \",\" + mapadecaixa['4o. Agrupamento']+ \",\" + mapadecaixa['Cliente']+ \",\" + mapadecaixa['Descrição']\n",
    "mapadecaixa['HISTORICO'] = '10.01'+ \",\" + mapadecaixa['NEWCOLUN']+ \",\" + mapadecaixa['Descrição']"
   ]
  },
  {
   "cell_type": "code",
   "execution_count": null,
   "id": "695e19b8",
   "metadata": {},
   "outputs": [],
   "source": [
    "mapadecaixa"
   ]
  },
  {
   "cell_type": "code",
   "execution_count": null,
   "id": "e742df1d",
   "metadata": {},
   "outputs": [],
   "source": [
    "# SUBSTITUIR pontos (.) por vírgulas (,) \n",
    "# mapadecaixa['HISTORICO'] = mapadecaixa['HISTORICO'].apply(lambda x: float(x.replace(\".\",\"\").replace(\",\",\".\")))\n",
    "# mapadecaixa = mapadecaixa.replace({',': ''}, regex=True)\n",
    "mapadecaixa['HISTORICO'] = mapadecaixa['HISTORICO'].astype(str)\n",
    "mapadecaixa['HISTORICO'] = mapadecaixa['HISTORICO'].str.replace(',,', ',')\n",
    "mapadecaixa"
   ]
  },
  {
   "cell_type": "code",
   "execution_count": null,
   "id": "9c023a6d",
   "metadata": {},
   "outputs": [],
   "source": [
    "#---Verificando o tipo da coluna\n",
    "mapadecaixa.dtypes\n",
    "# mapadecaixa"
   ]
  },
  {
   "cell_type": "code",
   "execution_count": null,
   "id": "7ae41a1f",
   "metadata": {},
   "outputs": [],
   "source": [
    "mapadecaixa['HISTORICO'] = mapadecaixa['HISTORICO'].str.replace('\"','') # Retira as aspas.\n",
    "# mapadecaixa['HISTORICO'] = mapadecaixa['HISTORICO'].str.replace(\"\\\"\", \"\") # Retira as aspas.\n",
    "# mapadecaixa['HISTORICO'] = mapadecaixa['HISTORICO'].strip().rstrip().replace('\"','') # Retira as aspas.\n",
    "mapadecaixa"
   ]
  },
  {
   "cell_type": "code",
   "execution_count": null,
   "id": "87aa8ddc",
   "metadata": {},
   "outputs": [],
   "source": [
    "# CAPTULANDO TODA COLUNA 'HISTORICO'\n",
    "mapadecaixa['HISTORICO'] = mapadecaixa['HISTORICO'].str.upper()"
   ]
  },
  {
   "cell_type": "code",
   "execution_count": null,
   "id": "bcab6703",
   "metadata": {},
   "outputs": [],
   "source": [
    "# mapadecaixa\n",
    "# mapadecaixa.head(40)\n",
    "mapadecaixa.head()"
   ]
  },
  {
   "cell_type": "code",
   "execution_count": null,
   "id": "78d6d67a",
   "metadata": {},
   "outputs": [],
   "source": [
    "# EXCLUÍNDO COLUNA\n",
    "# mapadecaixa = mapadecaixa.drop('3o. Agrupamento', axis=1)\n",
    "# mapadecaixa = mapadecaixa.drop('4o. Agrupamento', axis=1)\n",
    "# mapadecaixa = mapadecaixa.drop('Descrição', axis=1)\n",
    "# mapadecaixa = mapadecaixa.drop('Cliente', axis=1)\n",
    "# mapadecaixa = mapadecaixa.drop(['3o. Agrupamento','4o. Agrupamento','Descrição','Cliente', 'NEWCOLUN'], axis=1, inplace=True)\n",
    "mapadecaixa = mapadecaixa.drop(['3o. Agrupamento','4o. Agrupamento','Descrição','Cliente', 'NEWCOLUN'], axis=1)"
   ]
  },
  {
   "cell_type": "code",
   "execution_count": null,
   "id": "f1bec75a",
   "metadata": {},
   "outputs": [],
   "source": [
    "mapadecaixa"
   ]
  },
  {
   "cell_type": "code",
   "execution_count": null,
   "id": "bfa35c52",
   "metadata": {},
   "outputs": [],
   "source": [
    "# RENOMEAR COLUNAS\n",
    "# colunas = {'4o. Agrupamento':'4AGRUPAMENTO','Descrição':'DESCRIÇÃO','Cliente':'CLIENTE','Emissão':'DATA','Valor':'VALOR'}\n",
    "colunas = {'Emissão':'DATA','Valor':'VALOR'}\n",
    "mapadecaixa.rename(columns = colunas, inplace=True) "
   ]
  },
  {
   "cell_type": "code",
   "execution_count": null,
   "id": "a8410450",
   "metadata": {},
   "outputs": [],
   "source": [
    "mapadecaixa"
   ]
  },
  {
   "cell_type": "code",
   "execution_count": null,
   "id": "d135d82c",
   "metadata": {},
   "outputs": [],
   "source": [
    "# REORDENANDO COLUNAS\n",
    "new_ordem_colls = ['FILIAL', 'DATA', 'DEBITO', 'CREDITO', 'VALOR', 'HISTORICO']\n",
    "mapadecaixa = mapadecaixa[new_ordem_colls]"
   ]
  },
  {
   "cell_type": "code",
   "execution_count": null,
   "id": "50d525f2",
   "metadata": {},
   "outputs": [],
   "source": [
    "#---Verificando o tipo da coluna\n",
    "mapadecaixa.dtypes\n",
    "# mapadecaixa"
   ]
  },
  {
   "cell_type": "code",
   "execution_count": null,
   "id": "82e225fa",
   "metadata": {},
   "outputs": [],
   "source": [
    "#---- SUBSTITUINDO OS VALORES 'NaN' e 'None', VALORES NULOS OU EMBRANCO\n",
    "# mapadecaixa['DEBITO'].fillna(1111, inplace=True) # O \"inplace=True\" grava no dataframe. Faz a alteração apenas na coluna 'DEBITO'.\n",
    "mapadecaixa.fillna(1111, inplace=True) # O \"inplace=True\" grava no dataframe. Faz a alteração em todo DATAFRAMA."
   ]
  },
  {
   "cell_type": "code",
   "execution_count": null,
   "id": "d6867ed0",
   "metadata": {},
   "outputs": [],
   "source": [
    "#---- QUANTOS DADOS FALTANTES TEM NAS COLUNAS\n",
    "mapadecaixa.isnull().sum()\n",
    "\n",
    "# EXIBIR LINHAS EM BRANCO\n",
    "mapadecaixa[mapadecaixa['DEBITO'].isnull()]"
   ]
  },
  {
   "cell_type": "code",
   "execution_count": null,
   "id": "af3d144e",
   "metadata": {},
   "outputs": [],
   "source": [
    "# mapadecaixa\n",
    "mapadecaixa.head(40)"
   ]
  },
  {
   "cell_type": "code",
   "execution_count": null,
   "id": "519f1f51",
   "metadata": {},
   "outputs": [],
   "source": [
    "#----Ordena todas as linhas do DataFrame do maior para o menor\n",
    "# O ignore_index=True permanece com o indece sempre em ordem independente se o ASCENDING seja FALSE ou TRUE.\n",
    "# O na_position='first' ordena as linhas vázias/NULAS nas primeiras posições.\n",
    "# O inplace=True grava a mudança no DataFrame\n",
    "## mapadecaixa.sort_values(['4o. Agrupamento', 'Descrição', 'Cliente', 'Emissão', 'Valor'], ascending=False, ignore_index=True, na_position='first', inplace=True)\n",
    "mapadecaixa.sort_values(['4o. Agrupamento', 'Descrição', 'Cliente', 'Emissão', 'Valor'], ascending=False, ignore_index=True, na_position='first')"
   ]
  },
  {
   "cell_type": "code",
   "execution_count": null,
   "id": "8b55fdcc",
   "metadata": {},
   "outputs": [],
   "source": [
    "# DIGITE A FILIAL\n",
    "filial = input(\"Digite a Filial: \")\n",
    "mapadecaixa['FILIAL'] = filial"
   ]
  },
  {
   "cell_type": "code",
   "execution_count": null,
   "id": "8a03e586",
   "metadata": {},
   "outputs": [],
   "source": [
    "mapadecaixa"
   ]
  },
  {
   "cell_type": "code",
   "execution_count": null,
   "id": "3f41536e",
   "metadata": {},
   "outputs": [],
   "source": [
    "# USANDO O 'to_csv' PARA EXPORTAR O ARQUIVO\n",
    "# O 'index=False' salva sem a coluna de indece e o 'header=False' salva sem o cabeçalho/titulo das colunas\n",
    "mapadecaixa.to_csv('Filial_'+filial+' - MapaCaixa.csv', encoding='latin-1', header=False, index=False) \n",
    "# print('Existem Linhas em Branco na coluna:','\\n',mapadecaixa[mapadecaixa['DEBITO'].isnull()])\n",
    "# print(\"Existem:\",mapadecaixa['DEBITO'].isnull().sum(),\"Contas em branco na coluna DÉBITO\")\n",
    "# mapadecaixa.isnull().sum()"
   ]
  },
  {
   "cell_type": "code",
   "execution_count": null,
   "id": "824db06f",
   "metadata": {},
   "outputs": [],
   "source": [
    "mapadecaixa"
   ]
  },
  {
   "cell_type": "code",
   "execution_count": null,
   "id": "02d64584",
   "metadata": {},
   "outputs": [],
   "source": [
    "# LENDO O ARQUIVO csv\n",
    "# mapadecaixa = pd.read_csv(os.getcwd() + \"\\\\MapaCaixa.csv\", encoding='ANSI', sep=',', header=0)\n",
    "mapadecaixa = pd.read_csv(os.getcwd() + \"\\\\Filial_87 - MapaCaixa.csv\", encoding='ANSI', sep=',', header=0)\n",
    "mapadecaixa.head(50) \n",
    "# mapadecaixa"
   ]
  }
 ],
 "metadata": {
  "kernelspec": {
   "display_name": "Python 3 (ipykernel)",
   "language": "python",
   "name": "python3"
  },
  "language_info": {
   "codemirror_mode": {
    "name": "ipython",
    "version": 3
   },
   "file_extension": ".py",
   "mimetype": "text/x-python",
   "name": "python",
   "nbconvert_exporter": "python",
   "pygments_lexer": "ipython3",
   "version": "3.10.4"
  }
 },
 "nbformat": 4,
 "nbformat_minor": 5
}
