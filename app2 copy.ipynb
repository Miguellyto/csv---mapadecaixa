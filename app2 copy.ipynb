{
 "cells": [
  {
   "cell_type": "code",
   "execution_count": null,
   "id": "0e0fefbc",
   "metadata": {},
   "outputs": [],
   "source": [
    "# from cgitb import text\n",
    "# from distutils.command.upload import upload \n",
    "import pandas as pd\n",
    "import numpy as np\n",
    "import os\n",
    "# import sys\n",
    "import tkinter as tk\n",
    "from pathlib import Path\n",
    "from  tkinter import*\n",
    "import tkinter.messagebox\n",
    "from tkinter import filedialog\n",
    "# from PIL import ImageTk, Image"
   ]
  },
  {
   "cell_type": "code",
   "execution_count": null,
   "id": "7285fed6",
   "metadata": {},
   "outputs": [],
   "source": [
    "mapadecaixa = pd.read_csv(os.getcwd() + \"\\\\Movimentação geral (2).csv\", encoding='ANSI', sep=',', header=0, thousands = '.', decimal = ',', dtype = {'Valor':np.float64, '4o. Agrupamento':np.string_})\n",
    "# pd.set_option('display.max_columns', None)\n",
    "# mapadecaixa.head(38) # O número indica a quantidade de linha que a ser exibida.\n",
    "mapadecaixa.head()"
   ]
  },
  {
   "cell_type": "code",
   "execution_count": null,
   "id": "fd42c04a",
   "metadata": {},
   "outputs": [],
   "source": [
    "mapadecaixa.dtypes"
   ]
  },
  {
   "cell_type": "code",
   "execution_count": null,
   "id": "d0f5573a",
   "metadata": {},
   "outputs": [],
   "source": [
    "# O (.str.replace) pra retirar os - e \n",
    "# mapadecaixa[['4o. Agrupamento', 'Descrição', 'Cliente', 'Emissão', 'Valor']] = mapadecaixa['4o. Agrupamento'].str.rsplit(';', expand=True)\n",
    "# mapadecaixa[['4o. Agrupamento','Descrição','Cliente','Emissão','Valor']] = mapadecaixa['4o. Agrupamento'].str.split(n=1, expand=True)\n",
    "mapadecaixa[['4o. Agrupamento','DEBITO']] = mapadecaixa['4o. Agrupamento'].str.split(';', expand=True, n=1)\n",
    "\n",
    "# mapadecaixa.head(38)"
   ]
  },
  {
   "cell_type": "code",
   "execution_count": null,
   "id": "c434e4ee",
   "metadata": {},
   "outputs": [],
   "source": [
    "# mapadecaixa\n",
    "mapadecaixa.head(40)"
   ]
  },
  {
   "cell_type": "code",
   "execution_count": null,
   "id": "1b488344",
   "metadata": {},
   "outputs": [],
   "source": [
    "mapadecaixa['FILIAL'] = ''"
   ]
  },
  {
   "cell_type": "code",
   "execution_count": null,
   "id": "c89ee7c3",
   "metadata": {},
   "outputs": [],
   "source": [
    "mapadecaixa['CREDITO'] = '10164' "
   ]
  },
  {
   "cell_type": "code",
   "execution_count": null,
   "id": "aff8b140",
   "metadata": {},
   "outputs": [],
   "source": [
    "mapadecaixa['HISTORICO'] = '10.01'+ \",\" + mapadecaixa['4o. Agrupamento']+ \",\" + mapadecaixa['Cliente']+ \",\" + mapadecaixa['Descrição']"
   ]
  },
  {
   "cell_type": "code",
   "execution_count": null,
   "id": "87aa8ddc",
   "metadata": {},
   "outputs": [],
   "source": [
    "mapadecaixa['HISTORICO'] = mapadecaixa['HISTORICO'].str.upper()"
   ]
  },
  {
   "cell_type": "code",
   "execution_count": null,
   "id": "bcab6703",
   "metadata": {},
   "outputs": [],
   "source": [
    "# mapadecaixa\n",
    "mapadecaixa.head(40)"
   ]
  },
  {
   "cell_type": "code",
   "execution_count": null,
   "id": "bfa35c52",
   "metadata": {},
   "outputs": [],
   "source": [
    "colunas = {'4o. Agrupamento':'4AGRUPAMENTO','Descrição':'DESCRIÇÃO','Cliente':'CLIENTE','Emissão':'DATA','Valor':'VALOR'}\n",
    "mapadecaixa.rename(columns = colunas, inplace=True) "
   ]
  },
  {
   "cell_type": "code",
   "execution_count": null,
   "id": "4f5dc2e4",
   "metadata": {},
   "outputs": [],
   "source": [
    "mapadecaixa"
   ]
  },
  {
   "cell_type": "code",
   "execution_count": null,
   "id": "d135d82c",
   "metadata": {},
   "outputs": [],
   "source": [
    "new_ordem_colls = ['FILIAL', 'DATA', 'DEBITO', 'CREDITO', 'VALOR', 'HISTORICO']\n",
    "mapadecaixa = mapadecaixa[new_ordem_colls]"
   ]
  },
  {
   "cell_type": "code",
   "execution_count": null,
   "id": "af3d144e",
   "metadata": {},
   "outputs": [],
   "source": [
    "# mapadecaixa\n",
    "mapadecaixa.head(40)"
   ]
  },
  {
   "cell_type": "code",
   "execution_count": null,
   "id": "8b55fdcc",
   "metadata": {},
   "outputs": [],
   "source": [
    "filial = input(\"Digite a Filial: \")\n",
    "mapadecaixa['FILIAL'] = filial"
   ]
  },
  {
   "cell_type": "code",
   "execution_count": null,
   "id": "8a03e586",
   "metadata": {},
   "outputs": [],
   "source": [
    "mapadecaixa"
   ]
  },
  {
   "cell_type": "code",
   "execution_count": null,
   "id": "3f41536e",
   "metadata": {},
   "outputs": [],
   "source": [
    "# Usando o to_csv para exportar o arquivo\n",
    "mapadecaixa.to_csv('MapaCaixa.csv', encoding='latin-1', index=False) "
   ]
  },
  {
   "cell_type": "code",
   "execution_count": null,
   "id": "02d64584",
   "metadata": {},
   "outputs": [],
   "source": [
    "# Lendo o file csv\n",
    "mapadecaixa = pd.read_csv(os.getcwd() + \"\\\\MapaCaixa.csv\", encoding='ANSI', sep=',', header=0)\n",
    "mapadecaixa.head() "
   ]
  }
 ],
 "metadata": {
  "kernelspec": {
   "display_name": "Python 3 (ipykernel)",
   "language": "python",
   "name": "python3"
  },
  "language_info": {
   "codemirror_mode": {
    "name": "ipython",
    "version": 3
   },
   "file_extension": ".py",
   "mimetype": "text/x-python",
   "name": "python",
   "nbconvert_exporter": "python",
   "pygments_lexer": "ipython3",
   "version": "3.10.4"
  }
 },
 "nbformat": 4,
 "nbformat_minor": 5
}
