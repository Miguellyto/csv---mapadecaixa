{
 "cells": [
  {
   "cell_type": "code",
   "execution_count": 251,
   "id": "0e0fefbc",
   "metadata": {},
   "outputs": [],
   "source": [
    "# from cgitb import text\n",
    "# from distutils.command.upload import upload \n",
    "import pandas as pd\n",
    "import numpy as np\n",
    "import os\n",
    "# import sys\n",
    "import tkinter as tk\n",
    "from pathlib import Path\n",
    "from  tkinter import*\n",
    "import tkinter.messagebox\n",
    "from tkinter import filedialog\n",
    "# from PIL import ImageTk, Image"
   ]
  },
  {
   "cell_type": "code",
   "execution_count": 252,
   "id": "7285fed6",
   "metadata": {},
   "outputs": [
    {
     "data": {
      "text/html": [
       "<div>\n",
       "<style scoped>\n",
       "    .dataframe tbody tr th:only-of-type {\n",
       "        vertical-align: middle;\n",
       "    }\n",
       "\n",
       "    .dataframe tbody tr th {\n",
       "        vertical-align: top;\n",
       "    }\n",
       "\n",
       "    .dataframe thead th {\n",
       "        text-align: right;\n",
       "    }\n",
       "</style>\n",
       "<table border=\"1\" class=\"dataframe\">\n",
       "  <thead>\n",
       "    <tr style=\"text-align: right;\">\n",
       "      <th></th>\n",
       "      <th>4o. Agrupamento</th>\n",
       "      <th>Descrição</th>\n",
       "      <th>Cliente</th>\n",
       "      <th>Emissão</th>\n",
       "      <th>Valor</th>\n",
       "    </tr>\n",
       "  </thead>\n",
       "  <tbody>\n",
       "    <tr>\n",
       "      <th>0</th>\n",
       "      <td>NaN</td>\n",
       "      <td>968998785-1/1</td>\n",
       "      <td>NaN</td>\n",
       "      <td>20/01/2019</td>\n",
       "      <td>372.08</td>\n",
       "    </tr>\n",
       "    <tr>\n",
       "      <th>1</th>\n",
       "      <td>NaN</td>\n",
       "      <td>974994344-1/1</td>\n",
       "      <td>NaN</td>\n",
       "      <td>26/01/2019</td>\n",
       "      <td>985.30</td>\n",
       "    </tr>\n",
       "    <tr>\n",
       "      <th>2</th>\n",
       "      <td>NaN</td>\n",
       "      <td>974994337-1/1</td>\n",
       "      <td>NaN</td>\n",
       "      <td>26/01/2019</td>\n",
       "      <td>1200.96</td>\n",
       "    </tr>\n",
       "    <tr>\n",
       "      <th>3</th>\n",
       "      <td>NaN</td>\n",
       "      <td>974994323-1/1</td>\n",
       "      <td>NaN</td>\n",
       "      <td>26/01/2019</td>\n",
       "      <td>1208.07</td>\n",
       "    </tr>\n",
       "    <tr>\n",
       "      <th>4</th>\n",
       "      <td>NaN</td>\n",
       "      <td>972460256-1/1</td>\n",
       "      <td>NaN</td>\n",
       "      <td>26/01/2019</td>\n",
       "      <td>1240.85</td>\n",
       "    </tr>\n",
       "  </tbody>\n",
       "</table>\n",
       "</div>"
      ],
      "text/plain": [
       "  4o. Agrupamento      Descrição Cliente     Emissão    Valor\n",
       "0             NaN  968998785-1/1     NaN  20/01/2019   372.08\n",
       "1             NaN  974994344-1/1     NaN  26/01/2019   985.30\n",
       "2             NaN  974994337-1/1     NaN  26/01/2019  1200.96\n",
       "3             NaN  974994323-1/1     NaN  26/01/2019  1208.07\n",
       "4             NaN  972460256-1/1     NaN  26/01/2019  1240.85"
      ]
     },
     "execution_count": 252,
     "metadata": {},
     "output_type": "execute_result"
    }
   ],
   "source": [
    "mapadecaixa = pd.read_csv(os.getcwd() + \"\\\\Movimentação geral (2).csv\", encoding='ANSI', sep=',', header=0, thousands = '.', decimal = ',', dtype = {'Valor':np.float64})\n",
    "# pd.set_option('display.max_columns', None)\n",
    "# mapadecaixa.head(38) # O número indica a quantidade de linha que a ser exibida.\n",
    "mapadecaixa.head()"
   ]
  },
  {
   "cell_type": "code",
   "execution_count": null,
   "id": "fd42c04a",
   "metadata": {},
   "outputs": [],
   "source": [
    "mapadecaixa.dtypes"
   ]
  },
  {
   "cell_type": "code",
   "execution_count": null,
   "id": "70cc3f2c",
   "metadata": {},
   "outputs": [],
   "source": [
    "#Alterando o tipo de dados da coluna\n",
    "mapadecaixa['4o. Agrupamento'] = mapadecaixa['4o. Agrupamento'].astype('string') "
   ]
  },
  {
   "cell_type": "code",
   "execution_count": null,
   "id": "7c1cac76",
   "metadata": {},
   "outputs": [],
   "source": [
    "mapadecaixa.dtypes"
   ]
  },
  {
   "cell_type": "code",
   "execution_count": null,
   "id": "d0f5573a",
   "metadata": {},
   "outputs": [],
   "source": [
    "# O (.str.replace) pra retirar os - e \n",
    "mapadecaixa[['4o. Agrupamento','DEBITO']] = mapadecaixa['4o. Agrupamento'].str.split(';', expand=True)\n",
    "\n",
    "mapadecaixa.head(38)"
   ]
  },
  {
   "cell_type": "code",
   "execution_count": null,
   "id": "c434e4ee",
   "metadata": {},
   "outputs": [],
   "source": [
    "# mapadecaixa\n",
    "mapadecaixa.head(40)"
   ]
  },
  {
   "cell_type": "code",
   "execution_count": null,
   "id": "1b488344",
   "metadata": {},
   "outputs": [],
   "source": [
    "mapadecaixa['FILIAL'] = ''"
   ]
  },
  {
   "cell_type": "code",
   "execution_count": null,
   "id": "c89ee7c3",
   "metadata": {},
   "outputs": [],
   "source": [
    "mapadecaixa['CREDITO'] = '10164' "
   ]
  },
  {
   "cell_type": "code",
   "execution_count": null,
   "id": "aff8b140",
   "metadata": {},
   "outputs": [],
   "source": [
    "mapadecaixa['HISTORICO'] = '10.01'+ \",\" + mapadecaixa['4o. Agrupamento']+ \",\" + mapadecaixa['Cliente']+ \",\" + mapadecaixa['Descrição']"
   ]
  },
  {
   "cell_type": "code",
   "execution_count": null,
   "id": "87aa8ddc",
   "metadata": {},
   "outputs": [],
   "source": [
    "mapadecaixa['HISTORICO'] = mapadecaixa['HISTORICO'].str.upper()"
   ]
  },
  {
   "cell_type": "code",
   "execution_count": null,
   "id": "bcab6703",
   "metadata": {},
   "outputs": [],
   "source": [
    "# mapadecaixa\n",
    "mapadecaixa.head(40)"
   ]
  },
  {
   "cell_type": "code",
   "execution_count": null,
   "id": "bfa35c52",
   "metadata": {},
   "outputs": [],
   "source": [
    "colunas = {'4o. Agrupamento':'4AGRUPAMENTO','Descrição':'DESCRIÇÃO','Cliente':'CLIENTE','Emissão':'DATA','Valor':'VALOR'}\n",
    "mapadecaixa.rename(columns = colunas, inplace=True) "
   ]
  },
  {
   "cell_type": "code",
   "execution_count": null,
   "id": "a8410450",
   "metadata": {},
   "outputs": [],
   "source": [
    "mapadecaixa"
   ]
  },
  {
   "cell_type": "code",
   "execution_count": null,
   "id": "4d4f9cb5",
   "metadata": {},
   "outputs": [],
   "source": [
    "# Excluíndo coluna\n",
    "mapadecaixa = mapadecaixa.drop('4AGRUPAMENTO', axis=1)"
   ]
  },
  {
   "cell_type": "code",
   "execution_count": null,
   "id": "4f5dc2e4",
   "metadata": {},
   "outputs": [],
   "source": [
    "mapadecaixa"
   ]
  },
  {
   "cell_type": "code",
   "execution_count": null,
   "id": "d135d82c",
   "metadata": {},
   "outputs": [],
   "source": [
    "new_ordem_colls = ['FILIAL', 'DATA', 'DEBITO', 'CREDITO', 'VALOR', 'HISTORICO']\n",
    "mapadecaixa = mapadecaixa[new_ordem_colls]"
   ]
  },
  {
   "cell_type": "code",
   "execution_count": null,
   "id": "af3d144e",
   "metadata": {},
   "outputs": [],
   "source": [
    "# mapadecaixa\n",
    "mapadecaixa.head(40)"
   ]
  },
  {
   "cell_type": "code",
   "execution_count": null,
   "id": "8b55fdcc",
   "metadata": {},
   "outputs": [],
   "source": [
    "filial = input(\"Digite a Filial: \")\n",
    "mapadecaixa['FILIAL'] = filial"
   ]
  },
  {
   "cell_type": "code",
   "execution_count": null,
   "id": "8a03e586",
   "metadata": {},
   "outputs": [],
   "source": [
    "mapadecaixa"
   ]
  },
  {
   "cell_type": "code",
   "execution_count": null,
   "id": "3f41536e",
   "metadata": {},
   "outputs": [],
   "source": [
    "# Usando o to_csv para exportar o arquivo\n",
    "mapadecaixa.to_csv('MapaCaixa.csv', encoding='latin-1', index=False) "
   ]
  },
  {
   "cell_type": "code",
   "execution_count": null,
   "id": "02d64584",
   "metadata": {},
   "outputs": [],
   "source": [
    "# Lendo o file csv\n",
    "mapadecaixa = pd.read_csv(os.getcwd() + \"\\\\MapaCaixa.csv\", encoding='ANSI', sep=',', header=0)\n",
    "mapadecaixa.head() "
   ]
  }
 ],
 "metadata": {
  "kernelspec": {
   "display_name": "Python 3 (ipykernel)",
   "language": "python",
   "name": "python3"
  },
  "language_info": {
   "codemirror_mode": {
    "name": "ipython",
    "version": 3
   },
   "file_extension": ".py",
   "mimetype": "text/x-python",
   "name": "python",
   "nbconvert_exporter": "python",
   "pygments_lexer": "ipython3",
   "version": "3.10.4"
  }
 },
 "nbformat": 4,
 "nbformat_minor": 5
}
