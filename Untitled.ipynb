{
 "cells": [
  {
   "cell_type": "code",
   "execution_count": 1,
   "id": "1a3f9ba1",
   "metadata": {},
   "outputs": [],
   "source": [
    "import pandas as pd\n",
    "import numpy as np\n",
    "from  tkinter import*\n",
    "import tkinter.messagebox\n",
    "from tkinter import filedialog\n",
    "import ipywidgets as widgets\n",
    "# from ipywidgets import widgets  "
   ]
  },
  {
   "cell_type": "code",
   "execution_count": 15,
   "id": "bc7e9c2e",
   "metadata": {},
   "outputs": [
    {
     "ename": "SyntaxError",
     "evalue": "invalid syntax. Perhaps you forgot a comma? (2650768872.py, line 2)",
     "output_type": "error",
     "traceback": [
      "\u001b[1;36m  Input \u001b[1;32mIn [15]\u001b[1;36m\u001b[0m\n\u001b[1;33m    filedialog.askopenfilename(initialdir=\"C:/Users//Downloads/\", title=\"Selecione um Arquivo CSV\", filetypes=((\"csv files\", \"*.csv\"),(\"all files\", \"*.*\")))\u001b[0m\n\u001b[1;37m    ^\u001b[0m\n\u001b[1;31mSyntaxError\u001b[0m\u001b[1;31m:\u001b[0m invalid syntax. Perhaps you forgot a comma?\n"
     ]
    }
   ],
   "source": [
    "widgets.FileUpload(\n",
    "    filedialog.askopenfilename(initialdir=\"C:/Users//Downloads/\", title=\"Selecione um Arquivo CSV\", filetypes=((\"csv files\", \"*.csv\"),(\"all files\", \"*.*\")))\n",
    "    accept='',  # Accepted file extension e.g. '.txt', '.pdf', 'image/*', 'image/*,.pdf'\n",
    "    multiple=False  # True to accept multiple files upload else False\n",
    ")"
   ]
  },
  {
   "cell_type": "code",
   "execution_count": 13,
   "id": "472bc6a9",
   "metadata": {},
   "outputs": [
    {
     "ename": "NameError",
     "evalue": "name 'FileUpload' is not defined",
     "output_type": "error",
     "traceback": [
      "\u001b[1;31m---------------------------------------------------------------------------\u001b[0m",
      "\u001b[1;31mNameError\u001b[0m                                 Traceback (most recent call last)",
      "Input \u001b[1;32mIn [13]\u001b[0m, in \u001b[0;36m<module>\u001b[1;34m\u001b[0m\n\u001b[1;32m----> 1\u001b[0m mapadecaixa \u001b[38;5;241m=\u001b[39m \u001b[43mFileUpload\u001b[49m\n",
      "\u001b[1;31mNameError\u001b[0m: name 'FileUpload' is not defined"
     ]
    }
   ],
   "source": [
    "mapadecaixa = FileUpload"
   ]
  },
  {
   "cell_type": "code",
   "execution_count": 14,
   "id": "1c8af4a0",
   "metadata": {},
   "outputs": [
    {
     "data": {
      "text/plain": [
       "<module 'ipywidgets' from 'C:\\\\Users\\\\lmiguel\\\\AppData\\\\Local\\\\Programs\\\\Python\\\\Python310\\\\lib\\\\site-packages\\\\ipywidgets\\\\__init__.py'>"
      ]
     },
     "execution_count": 14,
     "metadata": {},
     "output_type": "execute_result"
    }
   ],
   "source": [
    "mapadecaixa"
   ]
  }
 ],
 "metadata": {
  "kernelspec": {
   "display_name": "Python 3 (ipykernel)",
   "language": "python",
   "name": "python3"
  },
  "language_info": {
   "codemirror_mode": {
    "name": "ipython",
    "version": 3
   },
   "file_extension": ".py",
   "mimetype": "text/x-python",
   "name": "python",
   "nbconvert_exporter": "python",
   "pygments_lexer": "ipython3",
   "version": "3.10.2"
  }
 },
 "nbformat": 4,
 "nbformat_minor": 5
}
