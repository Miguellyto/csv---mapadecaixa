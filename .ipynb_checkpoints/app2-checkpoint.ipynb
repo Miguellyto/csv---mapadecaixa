{
 "cells": [
  {
   "cell_type": "code",
   "execution_count": 1,
   "id": "0e0fefbc",
   "metadata": {},
   "outputs": [],
   "source": [
    "import pandas as pd\n",
    "import numpy as np\n",
    "import os\n",
    "from pathlib import Path\n",
    "from flask import request\n"
   ]
  },
  {
   "cell_type": "code",
   "execution_count": 2,
   "id": "7285fed6",
   "metadata": {},
   "outputs": [
    {
     "data": {
      "text/html": [
       "<div>\n",
       "<style scoped>\n",
       "    .dataframe tbody tr th:only-of-type {\n",
       "        vertical-align: middle;\n",
       "    }\n",
       "\n",
       "    .dataframe tbody tr th {\n",
       "        vertical-align: top;\n",
       "    }\n",
       "\n",
       "    .dataframe thead th {\n",
       "        text-align: right;\n",
       "    }\n",
       "</style>\n",
       "<table border=\"1\" class=\"dataframe\">\n",
       "  <thead>\n",
       "    <tr style=\"text-align: right;\">\n",
       "      <th></th>\n",
       "      <th>4o. Agrupamento</th>\n",
       "      <th>Descrição</th>\n",
       "      <th>Crédito</th>\n",
       "      <th>Emissão</th>\n",
       "      <th>Valor</th>\n",
       "    </tr>\n",
       "  </thead>\n",
       "  <tbody>\n",
       "    <tr>\n",
       "      <th>0</th>\n",
       "      <td>Cart Hipercard Rede - 12345</td>\n",
       "      <td>CNF 220348574 / NFC-e 000026841</td>\n",
       "      <td>NaN</td>\n",
       "      <td>21/07/2019</td>\n",
       "      <td>922.20</td>\n",
       "    </tr>\n",
       "    <tr>\n",
       "      <th>1</th>\n",
       "      <td>Cart Hipercard Rede - 12345</td>\n",
       "      <td>NFC-e 000021648</td>\n",
       "      <td>NaN</td>\n",
       "      <td>06/07/2019</td>\n",
       "      <td>289.01</td>\n",
       "    </tr>\n",
       "    <tr>\n",
       "      <th>2</th>\n",
       "      <td>Cart Elo Credito Cielo</td>\n",
       "      <td>NFC-e 000022473</td>\n",
       "      <td>NaN</td>\n",
       "      <td>28/07/2019</td>\n",
       "      <td>500.00</td>\n",
       "    </tr>\n",
       "    <tr>\n",
       "      <th>3</th>\n",
       "      <td>Cart Mastercard Rede</td>\n",
       "      <td>CNF 112007797 / NFC-e 000025845</td>\n",
       "      <td>NaN</td>\n",
       "      <td>01/07/2019</td>\n",
       "      <td>1175.70</td>\n",
       "    </tr>\n",
       "    <tr>\n",
       "      <th>4</th>\n",
       "      <td>Cart Mastercard Rede</td>\n",
       "      <td>CNF 113485805 / NFC-e 000025846</td>\n",
       "      <td>NaN</td>\n",
       "      <td>01/07/2019</td>\n",
       "      <td>1099.00</td>\n",
       "    </tr>\n",
       "  </tbody>\n",
       "</table>\n",
       "</div>"
      ],
      "text/plain": [
       "               4o. Agrupamento                        Descrição  Crédito  \\\n",
       "0  Cart Hipercard Rede - 12345  CNF 220348574 / NFC-e 000026841      NaN   \n",
       "1  Cart Hipercard Rede - 12345                  NFC-e 000021648      NaN   \n",
       "2       Cart Elo Credito Cielo                  NFC-e 000022473      NaN   \n",
       "3         Cart Mastercard Rede  CNF 112007797 / NFC-e 000025845      NaN   \n",
       "4         Cart Mastercard Rede  CNF 113485805 / NFC-e 000025846      NaN   \n",
       "\n",
       "      Emissão    Valor  \n",
       "0  21/07/2019   922.20  \n",
       "1  06/07/2019   289.01  \n",
       "2  28/07/2019   500.00  \n",
       "3  01/07/2019  1175.70  \n",
       "4  01/07/2019  1099.00  "
      ]
     },
     "execution_count": 2,
     "metadata": {},
     "output_type": "execute_result"
    }
   ],
   "source": [
    "# Criando o DataFreme \"mapadecaixa\" e atribuindo o conteúdo do file \"Movimentao geral - CSV.csv\" a ele\n",
    "mapadecaixa = pd.read_csv(os.getcwd() + \"\\\\Movimentação geral - CSV.csv\", encoding='ANSI', sep=',', header=0, thousands = '.', decimal = ',', dtype = {'Valor':np.float64})\n",
    "\n",
    "# Exemplo Old: Movimentação geral - CSV PontoVirgula\n",
    "# mapadecaixa = pd.read_csv(os.getcwd() + \"\\\\Movimentao geral - CSV.csv\", encoding='ANSI', sep=',', header=0)\n",
    "# Obtendo arquivo de um endereço da web\n",
    "# mapadecaixa = pd.read_csv(os.getcwd() + \"https://media.geeksforgeeks.org/wp-content/uploads/nba.csv\", encoding='ANSI', sep=',', header=0)\n",
    "\n",
    "# mapadecaixa = pd.read_csv(os.getcwd() + \"\\\\..\\\\..\\\\Users\\\\lmiguel\\\\Downloads\\\\Movimentao geral - CSV.csv\", encoding='ANSI', sep=',', header=0)\n",
    "# os.getcwd()\n",
    "\n",
    "#Retorna as 5 primeiras linhas\n",
    "\n",
    "\n",
    "mapadecaixa.head() "
   ]
  },
  {
   "cell_type": "code",
   "execution_count": null,
   "id": "9096848e",
   "metadata": {},
   "outputs": [],
   "source": [
    "# Qualquer coisa que não seja numerico o Pandas exibe como objeto\n",
    "\n",
    "\n",
    "mapadecaixa.dtypes"
   ]
  },
  {
   "cell_type": "code",
   "execution_count": 3,
   "id": "72a384f8",
   "metadata": {},
   "outputs": [
    {
     "data": {
      "text/html": [
       "<div>\n",
       "<style scoped>\n",
       "    .dataframe tbody tr th:only-of-type {\n",
       "        vertical-align: middle;\n",
       "    }\n",
       "\n",
       "    .dataframe tbody tr th {\n",
       "        vertical-align: top;\n",
       "    }\n",
       "\n",
       "    .dataframe thead th {\n",
       "        text-align: right;\n",
       "    }\n",
       "</style>\n",
       "<table border=\"1\" class=\"dataframe\">\n",
       "  <thead>\n",
       "    <tr style=\"text-align: right;\">\n",
       "      <th></th>\n",
       "      <th>FILIAL</th>\n",
       "      <th>DESCRIÇÃO</th>\n",
       "      <th>DEBITO</th>\n",
       "      <th>DATA</th>\n",
       "      <th>VALOR</th>\n",
       "      <th>HISTORICO</th>\n",
       "      <th>CREDITO</th>\n",
       "    </tr>\n",
       "  </thead>\n",
       "  <tbody>\n",
       "    <tr>\n",
       "      <th>0</th>\n",
       "      <td>Cart Hipercard Rede - 12345</td>\n",
       "      <td>CNF 220348574 / NFC-e 000026841</td>\n",
       "      <td>NaN</td>\n",
       "      <td>21/07/2019</td>\n",
       "      <td>922.20</td>\n",
       "      <td>10.01</td>\n",
       "      <td>10164</td>\n",
       "    </tr>\n",
       "    <tr>\n",
       "      <th>1</th>\n",
       "      <td>Cart Hipercard Rede - 12345</td>\n",
       "      <td>NFC-e 000021648</td>\n",
       "      <td>NaN</td>\n",
       "      <td>06/07/2019</td>\n",
       "      <td>289.01</td>\n",
       "      <td>10.01</td>\n",
       "      <td>10164</td>\n",
       "    </tr>\n",
       "    <tr>\n",
       "      <th>2</th>\n",
       "      <td>Cart Elo Credito Cielo</td>\n",
       "      <td>NFC-e 000022473</td>\n",
       "      <td>NaN</td>\n",
       "      <td>28/07/2019</td>\n",
       "      <td>500.00</td>\n",
       "      <td>10.01</td>\n",
       "      <td>10164</td>\n",
       "    </tr>\n",
       "    <tr>\n",
       "      <th>3</th>\n",
       "      <td>Cart Mastercard Rede</td>\n",
       "      <td>CNF 112007797 / NFC-e 000025845</td>\n",
       "      <td>NaN</td>\n",
       "      <td>01/07/2019</td>\n",
       "      <td>1175.70</td>\n",
       "      <td>10.01</td>\n",
       "      <td>10164</td>\n",
       "    </tr>\n",
       "    <tr>\n",
       "      <th>4</th>\n",
       "      <td>Cart Mastercard Rede</td>\n",
       "      <td>CNF 113485805 / NFC-e 000025846</td>\n",
       "      <td>NaN</td>\n",
       "      <td>01/07/2019</td>\n",
       "      <td>1099.00</td>\n",
       "      <td>10.01</td>\n",
       "      <td>10164</td>\n",
       "    </tr>\n",
       "  </tbody>\n",
       "</table>\n",
       "</div>"
      ],
      "text/plain": [
       "                        FILIAL                        DESCRIÇÃO  DEBITO  \\\n",
       "0  Cart Hipercard Rede - 12345  CNF 220348574 / NFC-e 000026841     NaN   \n",
       "1  Cart Hipercard Rede - 12345                  NFC-e 000021648     NaN   \n",
       "2       Cart Elo Credito Cielo                  NFC-e 000022473     NaN   \n",
       "3         Cart Mastercard Rede  CNF 112007797 / NFC-e 000025845     NaN   \n",
       "4         Cart Mastercard Rede  CNF 113485805 / NFC-e 000025846     NaN   \n",
       "\n",
       "         DATA    VALOR  HISTORICO  CREDITO  \n",
       "0  21/07/2019   922.20      10.01    10164  \n",
       "1  06/07/2019   289.01      10.01    10164  \n",
       "2  28/07/2019   500.00      10.01    10164  \n",
       "3  01/07/2019  1175.70      10.01    10164  \n",
       "4  01/07/2019  1099.00      10.01    10164  "
      ]
     },
     "execution_count": 3,
     "metadata": {},
     "output_type": "execute_result"
    }
   ],
   "source": [
    "mapadecaixa['HISTORICO'] = 10.01 #adicionando colunas\n",
    "mapadecaixa['CREDITO'] = 10164 #adicionando colunas\n",
    "# Renomeando as colunas\n",
    "colunas = {'4o. Agrupamento':'FILIAL', 'Descrição':'DESCRIÇÃO','Crédito':'DEBITO', 'Emissão':'DATA', 'Valor':'VALOR'}\n",
    "mapadecaixa.rename(columns = colunas, inplace=True) # o inplace=True muda os dados diretamente no DataFreme\n",
    "# Lendo o DataFreme com as colunas renomeadas\n",
    "\n",
    "\n",
    "mapadecaixa.head() \n",
    "# mapadecaixa.columns.to_list()"
   ]
  },
  {
   "cell_type": "code",
   "execution_count": null,
   "id": "d19de57d",
   "metadata": {},
   "outputs": [],
   "source": [
    "#Substituindo a Virgula por Ponto\n",
    "# Obs.: Quando converte os valores da coluna \"VALOR\" para str (STRING) não conseguira mais realizar funções matemática, pois não será mais do tipo int, float\n",
    "\n",
    "# mapadecaixa['VALOR'] = mapadecaixa['VALOR'].astype(str)\n",
    "# mapadecaixa['VALOR'] = mapadecaixa['VALOR'].str.replace(',','.')\n",
    "# mapadecaixa.head()\n",
    "\n",
    "# Convertendo para \"float64\" para fazer calculos, caso necessario:\n",
    "# mapadecaixa['VALOR'] = mapadecaixa['VALOR'].str.replace(',', '.').astype('float64')\n",
    "\n",
    "########## Obs.: Não precisa usar o codigo acima pois já foi inserindo a seguinte linha na abertura do arquivo que já faz esse tratativa:\n",
    "# mapadecaixa = pd.read_csv(os.getcwd() + \"\\\\Movimentao geral - CSV.csv\", encoding='ANSI', sep=',', header=0, thousands = '.', decimal = ',', dtype = {'Valor':np.float64})\n"
   ]
  },
  {
   "cell_type": "code",
   "execution_count": 4,
   "id": "78ce5276",
   "metadata": {},
   "outputs": [
    {
     "data": {
      "text/plain": [
       "Index(['FILIAL', 'DESCRIÇÃO', 'DEBITO', 'DATA', 'VALOR', 'HISTORICO',\n",
       "       'CREDITO'],\n",
       "      dtype='object')"
      ]
     },
     "execution_count": 4,
     "metadata": {},
     "output_type": "execute_result"
    }
   ],
   "source": [
    "# listando colunas do DataFreme\n",
    "\n",
    "\n",
    "mapadecaixa.columns"
   ]
  },
  {
   "cell_type": "code",
   "execution_count": null,
   "id": "ed41c4fd",
   "metadata": {},
   "outputs": [],
   "source": [
    "# Ordenando colunas\n",
    "new_ordem_colls = ['FILIAL', 'DATA', 'DEBITO', 'CREDITO', 'VALOR', 'HISTORICO']\n",
    "mapadecaixa = mapadecaixa[new_ordem_colls]\n",
    "\n",
    "\n",
    "mapadecaixa.head()"
   ]
  },
  {
   "cell_type": "code",
   "execution_count": 5,
   "id": "bfa35c52",
   "metadata": {},
   "outputs": [
    {
     "name": "stdout",
     "output_type": "stream",
     "text": [
      "Digite a Filial: 019\n"
     ]
    }
   ],
   "source": [
    "### Inserindo valores nas linhas da coluna 'FILIAL' a partir da entrada do usuário\n",
    "# mapadecaixa = str(input(\"Digite a Filial: \"))\n",
    "filial = input(\"Digite a Filial: \")\n",
    "mapadecaixa['FILIAL'] = filial\n",
    "\n",
    "# Inserindo o valor '8080' em todas as linhas da coluna 'Descrição'\n",
    "# mapadecaixa['Descrição'] = '8080'\n",
    "# Inserindo o valor '8080' na linha '1' da coluna 'Valor'\n",
    "# mapadecaixa.Valor[1] = '8080'\n",
    "# Inserindo o valor '8080' na linha '3' da coluna 'Valor'usando o LOC\n",
    "# mapadecaixa.loc[3, 'Valor'] = '8080'"
   ]
  },
  {
   "cell_type": "code",
   "execution_count": null,
   "id": "8b55fdcc",
   "metadata": {},
   "outputs": [],
   "source": [
    "# Qualquer coisa que não seja numerico o Pandas exibe como objeto\n",
    "\n",
    "mapadecaixa.dtypes"
   ]
  },
  {
   "cell_type": "code",
   "execution_count": null,
   "id": "3f41536e",
   "metadata": {},
   "outputs": [],
   "source": [
    "# Usando o to_csv para exportar o arquivo\n",
    "mapadecaixa.to_csv('MapaCaixa.csv', index=False) # O Index false, remove a coluna de indice que o dataframe cria no inicio."
   ]
  },
  {
   "cell_type": "code",
   "execution_count": null,
   "id": "02d64584",
   "metadata": {},
   "outputs": [],
   "source": [
    "# Lendo o file csv\n",
    "\n",
    "\n",
    "mapadecaixa = pd.read_csv(os.getcwd() + \"\\\\MapaCaixa.csv\", encoding='ANSI', sep=',', header=0)\n",
    "mapadecaixa.head() "
   ]
  },
  {
   "cell_type": "code",
   "execution_count": null,
   "id": "0dc14c7d",
   "metadata": {},
   "outputs": [],
   "source": [
    "#Qualquer coisa que não seja numerico o Pandas exibe como objeto\n",
    "# mapadecaixa.dtypes"
   ]
  },
  {
   "cell_type": "code",
   "execution_count": null,
   "id": "23f8e0f4",
   "metadata": {},
   "outputs": [],
   "source": [
    "#Tipos de dados do DataFreme\n",
    "# type(mapadecaixa)"
   ]
  },
  {
   "cell_type": "code",
   "execution_count": null,
   "id": "e3344224",
   "metadata": {},
   "outputs": [],
   "source": [
    "#Retorna a 2 primeiras linhas\n",
    "# mapadecaixa.loc[:2] "
   ]
  },
  {
   "cell_type": "code",
   "execution_count": null,
   "id": "881b814a",
   "metadata": {},
   "outputs": [],
   "source": [
    "# mapadecaixa.columns.to_list()\n",
    "# mapadecaixa.columns"
   ]
  },
  {
   "cell_type": "code",
   "execution_count": null,
   "id": "3651810d",
   "metadata": {},
   "outputs": [],
   "source": [
    "#p = Path(os.getcwd())\n",
    "#pd.read_csv(str(p.parent.parent) + '\\\\Users\\\\lmiguel\\\\Downloads\\\\Movimentao geral - CSV.csv', encoding='ANSI', sep=',', header=0)"
   ]
  },
  {
   "cell_type": "code",
   "execution_count": null,
   "id": "22dea206",
   "metadata": {},
   "outputs": [],
   "source": [
    "# df = pd.read_csv('Movimentao geral - CSV.csv', encoding='ANSI', sep=',', header=0)\n",
    "# df.head()"
   ]
  },
  {
   "cell_type": "code",
   "execution_count": null,
   "id": "813bd0d7",
   "metadata": {},
   "outputs": [],
   "source": [
    "# O método read_csv bem como outros métodos de leitura de arquivo do Pandas vem com parâmetros que facilitam a coleta dos dados adaptando-os a realidade da região que os dados foram construídos. Para o caso de existir separação de milhar com pontos e casas decimais com vírgula, o que é algo um pouco fora do comum em algumas regiões e banco de dados, o Pandas trouxe a opção de definir os parâmetros thousands, decimal e dtype logo no método de leitura.\n",
    "# O parâmetro thousands permite que seja definido qual o separador das casas de milhar, decimal permite definir o separador das casas decimais e o dtype permite que possamos definir o tipo das variáveis presentes nas colunas do nosso banco de dados. Então, atribuindo o ponto a thousands, a vírgula a decimal e float64 como o tipo da colunas 'dotacao' e 'empenhada', teremos os dados numéricos, da forma que precisamos para trabalhar com eles, segue abaixo o código dessa aplicação:\n",
    "\n",
    "# orcamento = pd.read_csv('orcamento.csv', thousands = '.', decimal = ',', dtype = {'dotacao':np.float64,'empenhada': np.float64})\n",
    "\n",
    "# Nosso Exemplo:\n",
    "# mapadecaixa = pd.read_csv(os.getcwd() + \"\\\\Movimentao geral - CSV.csv\", encoding='ANSI', sep=',', header=0, thousands = '.', decimal = ',', dtype = {'Valor':np.float64})\n"
   ]
  }
 ],
 "metadata": {
  "kernelspec": {
   "display_name": "Python 3 (ipykernel)",
   "language": "python",
   "name": "python3"
  },
  "language_info": {
   "codemirror_mode": {
    "name": "ipython",
    "version": 3
   },
   "file_extension": ".py",
   "mimetype": "text/x-python",
   "name": "python",
   "nbconvert_exporter": "python",
   "pygments_lexer": "ipython3",
   "version": "3.10.2"
  }
 },
 "nbformat": 4,
 "nbformat_minor": 5
}
