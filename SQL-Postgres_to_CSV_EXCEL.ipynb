{
 "cells": [
  {
   "cell_type": "code",
   "execution_count": 2,
   "id": "0e0fefbc",
   "metadata": {},
   "outputs": [],
   "source": [
    "## https://www.codetd.com/pt/article/12083018\n",
    "# https://www.youtube.com/watch?v=_phkptSCUNM\n",
    "## pip install pandas psycopg2-binary SQLAlchemy\n",
    "# from selenium import webdriver\n",
    "# import lxml\n",
    "import pandas as pd\n",
    "import numpy as np\n",
    "import os\n",
    "from pathlib import Path\n",
    "# import html5lib \n",
    "# from bs4 import BeautifulSoup\n",
    "# import re\n",
    "# import requests\n",
    "## Postgress\n",
    "import psycopg2 as pg\n",
    "# from sqlalchemy import engine\n",
    "from sqlalchemy import create_engine\n",
    "## Mysql\n",
    "import pymysql as mysql \n",
    "# import mysql.connector\n",
    "# from mysql.connector import Error\n",
    "## Oracle\n",
    "import cx_Oracle as Oracle\n",
    "## SQL Server\n",
    "import pyodbc \n",
    "# from pyodbc import connect"
   ]
  },
  {
   "cell_type": "code",
   "execution_count": 3,
   "id": "454e61db",
   "metadata": {},
   "outputs": [],
   "source": [
    "#---CRIANDO CONEXÃO COM BD Postgres:\n",
    "# engine = pg.connect(\"dbname='ecommerce' user='postgres' host='127.0.0.1' port='5432' password='root'\")\n"
   ]
  },
  {
   "cell_type": "code",
   "execution_count": 4,
   "id": "f15a4d51",
   "metadata": {},
   "outputs": [
    {
     "name": "stderr",
     "output_type": "stream",
     "text": [
      "c:\\Users\\lmiguel\\AppData\\Local\\Programs\\Python\\Python310\\lib\\site-packages\\pandas\\io\\sql.py:761: UserWarning: pandas only support SQLAlchemy connectable(engine/connection) ordatabase string URI or sqlite3 DBAPI2 connectionother DBAPI2 objects are not tested, please consider using SQLAlchemy\n",
      "  warnings.warn(\n"
     ]
    },
    {
     "ename": "",
     "evalue": "",
     "output_type": "error",
     "traceback": [
      "\u001b[1;31mFalha ao interromper o Kernel. \n",
      "Não é possível iniciar o Kernel \"Python 3.10.2 64-bit\" devido ao tempo limite da conexão. \r\n",
      "Consulte o <a href='command:jupyter.viewOutput'>log</a> do Jupyter para obter mais detalhes."
     ]
    }
   ],
   "source": [
    "#--CONSULTANDO TABELA NO BANCO DE DADOS Postgres\n",
    "# df = pd.read_sql('select * from products', engine)\n",
    "df = pd.read_sql(\"SELECT e.CODIGO || ' - ' || e.NOME || ' - ' || e.CGCCPF AS FILIAL, p.ESTABELECIPED FROM PEDIDO AS p JOIN ENTIDADE AS e ON p.ESTABELECIPED = e.CHAVE\", engine)\n",
    "df"
   ]
  },
  {
   "cell_type": "code",
   "execution_count": null,
   "id": "215c66d8",
   "metadata": {},
   "outputs": [],
   "source": [
    "namefile = input(\"Digite o nome do arquivo: \")\n",
    "# Lista['NOME'] = namefile"
   ]
  },
  {
   "cell_type": "code",
   "execution_count": null,
   "id": "e49c5569",
   "metadata": {},
   "outputs": [],
   "source": [
    "# SALVANDO O FILE EM CSV\n",
    "df.to_csv(namefile+'.csv', index=False) # O Index false, remove a coluna de indice que o dataframe cria no inicio."
   ]
  },
  {
   "cell_type": "code",
   "execution_count": null,
   "id": "372fdfee",
   "metadata": {},
   "outputs": [],
   "source": [
    "# SALVANDO O FILE EM EXCEL\n",
    "df.to_excel(namefile+'.xlsx', index=False) # O Index false, remove a coluna de indice que o dataframe cria no inicio."
   ]
  }
 ],
 "metadata": {
  "interpreter": {
   "hash": "356ed5e0c376887ce37599954c9906ca9ea2de29a34a27d9dc269afc6ed5cb4a"
  },
  "kernelspec": {
   "display_name": "Python 3.10.2 64-bit",
   "language": "python",
   "name": "python3"
  },
  "language_info": {
   "codemirror_mode": {
    "name": "ipython",
    "version": 3
   },
   "file_extension": ".py",
   "mimetype": "text/x-python",
   "name": "python",
   "nbconvert_exporter": "python",
   "pygments_lexer": "ipython3",
   "version": "3.10.2"
  }
 },
 "nbformat": 4,
 "nbformat_minor": 5
}
