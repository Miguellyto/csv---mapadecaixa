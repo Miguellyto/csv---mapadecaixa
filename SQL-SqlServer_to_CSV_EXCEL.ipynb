{
 "cells": [
  {
   "cell_type": "code",
   "execution_count": null,
   "id": "0e0fefbc",
   "metadata": {},
   "outputs": [],
   "source": [
    "## https://www.codetd.com/pt/article/12083018\n",
    "# https://www.youtube.com/watch?v=_phkptSCUNM\n",
    "## pip install pandas psycopg2-binary SQLAlchemy\n",
    "# from selenium import webdriver\n",
    "# import lxml\n",
    "import pandas as pd\n",
    "import numpy as np\n",
    "import os\n",
    "from pathlib import Path\n",
    "# import html5lib \n",
    "# from bs4 import BeautifulSoup\n",
    "# import re\n",
    "# import requests\n",
    "## Postgress\n",
    "import psycopg2 as pg\n",
    "# from sqlalchemy import engine\n",
    "from sqlalchemy import create_engine\n",
    "## Mysql\n",
    "import pymysql as mysql \n",
    "# import mysql.connector\n",
    "# from mysql.connector import Error\n",
    "## Oracle\n",
    "import cx_Oracle as Oracle\n",
    "## SQL Server\n",
    "import pyodbc \n",
    "# from pyodbc import connect"
   ]
  },
  {
   "cell_type": "code",
   "execution_count": null,
   "id": "f25f9683",
   "metadata": {},
   "outputs": [],
   "source": [
    "#---CRIANDO CONEXÃO COM BD SQL Sever:\n",
    "# engine = pg.connect(\"dbname='ecommerce' user='LASER\\lmiguel' host='LE005TIC02\\SQLEXPRESS' port='5432' password='root'\")\n",
    "\n",
    "# server = 'LE005TIC02\\SQLEXPRESS' \n",
    "# database = 'ecommerce' \n",
    "# username = 'LASER\\lmiguel' \n",
    "# password = 'Lmbs7811$' \n",
    "# cnxn = pyodbc.connect('DRIVER={SQL Server};SERVER='+server+';DATABASE='+database+';UID='+username+';PWD='+ password)\n",
    "# cursor = cnxn.cursor()\n",
    "\n",
    "# cnxn = pyodbc.connect(Trusted_Connection='Yes',Driver= '{SQL Server}',Server='LE005TIC02\\SQLEXPRESS',Database='ecommerce',UID ='LASER\\lmiguel',PWD ='Lmbs7811$')\n",
    "cnxn = pyodbc.connect(Trusted_Connection='Yes',Driver= '{SQL Server}',Server='LE005TIC02\\SQLEXPRESS',Database='db_Biblioteca',UID ='LASER\\lmiguel',PWD ='Lmbs7811$')\n",
    "cursor = cnxn.cursor()"
   ]
  },
  {
   "cell_type": "code",
   "execution_count": null,
   "id": "9add4df6",
   "metadata": {},
   "outputs": [],
   "source": [
    "#-CONSULTANDO TABELA NO BANCO DE DADOS SQL Sever\n",
    "# df = pd.read_sql('select * from produtos', cnxn)\n",
    "df = pd.read_sql('select * from tbl_Autores', cnxn)\n",
    "df"
   ]
  },
  {
   "cell_type": "code",
   "execution_count": null,
   "id": "215c66d8",
   "metadata": {},
   "outputs": [],
   "source": [
    "namefile = input(\"Digite o nome do arquivo: \")\n",
    "# Lista['NOME'] = namefile"
   ]
  },
  {
   "cell_type": "code",
   "execution_count": null,
   "id": "e49c5569",
   "metadata": {},
   "outputs": [],
   "source": [
    "# SALVANDO O FILE EM CSV\n",
    "df.to_csv(namefile+'.csv', index=False) # O Index false, remove a coluna de indice que o dataframe cria no inicio."
   ]
  },
  {
   "cell_type": "code",
   "execution_count": null,
   "id": "372fdfee",
   "metadata": {},
   "outputs": [],
   "source": [
    "# SALVANDO O FILE EM EXCEL\n",
    "df.to_excel(namefile+'.xlsx', index=False) # O Index false, remove a coluna de indice que o dataframe cria no inicio."
   ]
  }
 ],
 "metadata": {
  "interpreter": {
   "hash": "356ed5e0c376887ce37599954c9906ca9ea2de29a34a27d9dc269afc6ed5cb4a"
  },
  "kernelspec": {
   "display_name": "Python 3.10.2 64-bit",
   "language": "python",
   "name": "python3"
  },
  "language_info": {
   "codemirror_mode": {
    "name": "ipython",
    "version": 3
   },
   "file_extension": ".py",
   "mimetype": "text/x-python",
   "name": "python",
   "nbconvert_exporter": "python",
   "pygments_lexer": "ipython3",
   "version": "3.10.2"
  }
 },
 "nbformat": 4,
 "nbformat_minor": 5
}
