{
 "cells": [
  {
   "cell_type": "code",
   "execution_count": 1,
   "id": "0e0fefbc",
   "metadata": {},
   "outputs": [],
   "source": [
    "## https://www.codetd.com/pt/article/12083018\n",
    "# https://www.youtube.com/watch?v=_phkptSCUNM\n",
    "## pip install pandas psycopg2-binary SQLAlchemy\n",
    "# from selenium import webdriver\n",
    "# import lxml\n",
    "import pandas as pd\n",
    "import numpy as np\n",
    "import os\n",
    "from pathlib import Path\n",
    "# import html5lib \n",
    "# from bs4 import BeautifulSoup\n",
    "# import re\n",
    "# import requests\n",
    "## Postgress\n",
    "import psycopg2 as pg\n",
    "# from sqlalchemy import engine\n",
    "from sqlalchemy import create_engine\n",
    "## Mysql\n",
    "import pymysql as mysql \n",
    "# import mysql.connector\n",
    "# from mysql.connector import Error\n",
    "## Oracle\n",
    "import cx_Oracle as Oracle\n",
    "## SQL Server\n",
    "import pyodbc \n",
    "# from pyodbc import connect"
   ]
  },
  {
   "cell_type": "code",
   "execution_count": 2,
   "id": "f25f9683",
   "metadata": {},
   "outputs": [
    {
     "name": "stderr",
     "output_type": "stream",
     "text": [
      "C:\\Users\\lmiguel\\AppData\\Local\\Temp\\ipykernel_11468\\3013667514.py:12: DeprecationWarning: PyUnicode_FromUnicode(NULL, size) is deprecated; use PyUnicode_New() instead\n",
      "  cnxn = pyodbc.connect(Trusted_Connection='Yes',Driver= '{SQL Server}',Server='LE005TIC02\\SQLEXPRESS',Database='db_Biblioteca',UID ='LASER\\lmiguel',PWD ='Lmbs7811$')\n"
     ]
    }
   ],
   "source": [
    "#---CRIANDO CONEXÃO COM BD SQL Sever:\n",
    "# engine = pg.connect(\"dbname='ecommerce' user='LASER\\lmiguel' host='LE005TIC02\\SQLEXPRESS' port='5432' password='root'\")\n",
    "\n",
    "# server = 'LE005TIC02\\SQLEXPRESS' \n",
    "# database = 'ecommerce' \n",
    "# username = 'LASER\\lmiguel' \n",
    "# password = 'Lmbs7811$' \n",
    "# cnxn = pyodbc.connect('DRIVER={SQL Server};SERVER='+server+';DATABASE='+database+';UID='+username+';PWD='+ password)\n",
    "# cursor = cnxn.cursor()\n",
    "\n",
    "# cnxn = pyodbc.connect(Trusted_Connection='Yes',Driver= '{SQL Server}',Server='LE005TIC02\\SQLEXPRESS',Database='ecommerce',UID ='LASER\\lmiguel',PWD ='Lmbs7811$')\n",
    "cnxn = pyodbc.connect(Trusted_Connection='Yes',Driver= '{SQL Server}',Server='LE005TIC02\\SQLEXPRESS',Database='db_Biblioteca',UID ='LASER\\lmiguel',PWD ='Lmbs7811$')\n",
    "cursor = cnxn.cursor()"
   ]
  },
  {
   "cell_type": "code",
   "execution_count": 3,
   "id": "9add4df6",
   "metadata": {},
   "outputs": [
    {
     "name": "stderr",
     "output_type": "stream",
     "text": [
      "c:\\Users\\lmiguel\\AppData\\Local\\Programs\\Python\\Python310\\lib\\site-packages\\pandas\\io\\sql.py:761: UserWarning: pandas only support SQLAlchemy connectable(engine/connection) ordatabase string URI or sqlite3 DBAPI2 connectionother DBAPI2 objects are not tested, please consider using SQLAlchemy\n",
      "  warnings.warn(\n"
     ]
    },
    {
     "data": {
      "text/html": [
       "<div>\n",
       "<style scoped>\n",
       "    .dataframe tbody tr th:only-of-type {\n",
       "        vertical-align: middle;\n",
       "    }\n",
       "\n",
       "    .dataframe tbody tr th {\n",
       "        vertical-align: top;\n",
       "    }\n",
       "\n",
       "    .dataframe thead th {\n",
       "        text-align: right;\n",
       "    }\n",
       "</style>\n",
       "<table border=\"1\" class=\"dataframe\">\n",
       "  <thead>\n",
       "    <tr style=\"text-align: right;\">\n",
       "      <th></th>\n",
       "      <th>ID_Autor</th>\n",
       "      <th>Nome_Autor</th>\n",
       "      <th>SobreNome_Autor</th>\n",
       "    </tr>\n",
       "  </thead>\n",
       "  <tbody>\n",
       "    <tr>\n",
       "      <th>0</th>\n",
       "      <td>1</td>\n",
       "      <td>Daniel</td>\n",
       "      <td>Barret</td>\n",
       "    </tr>\n",
       "    <tr>\n",
       "      <th>1</th>\n",
       "      <td>2</td>\n",
       "      <td>Gerald</td>\n",
       "      <td>Carter</td>\n",
       "    </tr>\n",
       "    <tr>\n",
       "      <th>2</th>\n",
       "      <td>3</td>\n",
       "      <td>Mark</td>\n",
       "      <td>Sobell</td>\n",
       "    </tr>\n",
       "    <tr>\n",
       "      <th>3</th>\n",
       "      <td>4</td>\n",
       "      <td>William</td>\n",
       "      <td>Stanek</td>\n",
       "    </tr>\n",
       "    <tr>\n",
       "      <th>4</th>\n",
       "      <td>5</td>\n",
       "      <td>Richard</td>\n",
       "      <td>Blum</td>\n",
       "    </tr>\n",
       "  </tbody>\n",
       "</table>\n",
       "</div>"
      ],
      "text/plain": [
       "   ID_Autor Nome_Autor SobreNome_Autor\n",
       "0         1     Daniel          Barret\n",
       "1         2     Gerald          Carter\n",
       "2         3       Mark          Sobell\n",
       "3         4    William          Stanek\n",
       "4         5    Richard            Blum"
      ]
     },
     "execution_count": 3,
     "metadata": {},
     "output_type": "execute_result"
    }
   ],
   "source": [
    "#-CONSULTANDO TABELA NO BANCO DE DADOS SQL Sever\n",
    "# df = pd.read_sql('select * from produtos', cnxn)\n",
    "df = pd.read_sql('select * from tbl_Autores', cnxn)\n",
    "df"
   ]
  },
  {
   "cell_type": "code",
   "execution_count": null,
   "id": "215c66d8",
   "metadata": {},
   "outputs": [],
   "source": [
    "namefile = input(\"Digite o nome do arquivo: \")\n",
    "# Lista['NOME'] = namefile"
   ]
  },
  {
   "cell_type": "code",
   "execution_count": null,
   "id": "e49c5569",
   "metadata": {},
   "outputs": [],
   "source": [
    "# SALVANDO O FILE EM CSV\n",
    "df.to_csv(namefile+'.csv', index=False) # O Index false, remove a coluna de indice que o dataframe cria no inicio."
   ]
  },
  {
   "cell_type": "code",
   "execution_count": null,
   "id": "372fdfee",
   "metadata": {},
   "outputs": [],
   "source": [
    "# SALVANDO O FILE EM EXCEL\n",
    "df.to_excel(namefile+'.xlsx', index=False) # O Index false, remove a coluna de indice que o dataframe cria no inicio."
   ]
  }
 ],
 "metadata": {
  "interpreter": {
   "hash": "356ed5e0c376887ce37599954c9906ca9ea2de29a34a27d9dc269afc6ed5cb4a"
  },
  "kernelspec": {
   "display_name": "Python 3.10.2 64-bit",
   "language": "python",
   "name": "python3"
  },
  "language_info": {
   "codemirror_mode": {
    "name": "ipython",
    "version": 3
   },
   "file_extension": ".py",
   "mimetype": "text/x-python",
   "name": "python",
   "nbconvert_exporter": "python",
   "pygments_lexer": "ipython3",
   "version": "3.10.2"
  }
 },
 "nbformat": 4,
 "nbformat_minor": 5
}
