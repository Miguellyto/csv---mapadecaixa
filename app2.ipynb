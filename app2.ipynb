{
 "cells": [
  {
   "cell_type": "code",
   "execution_count": null,
   "id": "0e0fefbc",
   "metadata": {},
   "outputs": [],
   "source": [
    "from selenium import webdriver\n",
    "import pandas as pd\n",
    "import numpy as np\n",
    "import os\n",
    "from pathlib import Path\n",
    "import lxml\n",
    "import html5lib \n",
    "from bs4 import BeautifulSoup\n",
    "import re\n",
    "# import requests\n",
    "# pip install lxml bs4 html5lib"
   ]
  },
  {
   "cell_type": "code",
   "execution_count": 9,
   "id": "e89aaf5d",
   "metadata": {},
   "outputs": [
    {
     "ename": "IndentationError",
     "evalue": "expected an indented block after 'for' statement on line 4 (4227870904.py, line 4)",
     "output_type": "error",
     "traceback": [
      "\u001b[1;36m  Input \u001b[1;32mIn [9]\u001b[1;36m\u001b[0m\n\u001b[1;33m    for li in ol.find_all('li'):\u001b[0m\n\u001b[1;37m                                ^\u001b[0m\n\u001b[1;31mIndentationError\u001b[0m\u001b[1;31m:\u001b[0m expected an indented block after 'for' statement on line 4\n"
     ]
    }
   ],
   "source": [
    "mapadecaixa = BeautifulSoup('24h.html')\n",
    "\n",
    "for ol in mapadecaixa.find_all('ol', {'id': re.compile('name\\d+')}):\n",
    "    for li in ol.find_all('li'):"
   ]
  },
  {
   "cell_type": "code",
   "execution_count": null,
   "id": "0cd600eb",
   "metadata": {},
   "outputs": [],
   "source": [
    "# Obeter informações de página dinamica:\n",
    "# driver = webdriver.Chrome('C:/chromedriver_win32/chromedriver.exe')\n",
    "# driver.get(\"https://www.wunderground.com/history/daily/us/wi/milwaukee/KMKE/date/2013-6-26\")\n",
    "\n",
    "# html = driver.page_source\n",
    "\n",
    "# tables = pd.read_html(html)"
   ]
  },
  {
   "cell_type": "code",
   "execution_count": 5,
   "id": "36caad9d",
   "metadata": {},
   "outputs": [
    {
     "data": {
      "text/html": [
       "<div>\n",
       "<style scoped>\n",
       "    .dataframe tbody tr th:only-of-type {\n",
       "        vertical-align: middle;\n",
       "    }\n",
       "\n",
       "    .dataframe tbody tr th {\n",
       "        vertical-align: top;\n",
       "    }\n",
       "\n",
       "    .dataframe thead th {\n",
       "        text-align: right;\n",
       "    }\n",
       "</style>\n",
       "<table border=\"1\" class=\"dataframe\">\n",
       "  <thead>\n",
       "    <tr style=\"text-align: right;\">\n",
       "      <th></th>\n",
       "      <th>Discografia de Avril Lavigne</th>\n",
       "      <th>Discografia de Avril Lavigne.1</th>\n",
       "    </tr>\n",
       "  </thead>\n",
       "  <tbody>\n",
       "    <tr>\n",
       "      <th>0</th>\n",
       "      <td>Lavigne em setembro de 2019</td>\n",
       "      <td>Lavigne em setembro de 2019</td>\n",
       "    </tr>\n",
       "    <tr>\n",
       "      <th>1</th>\n",
       "      <td>Álbuns de estúdio</td>\n",
       "      <td>7</td>\n",
       "    </tr>\n",
       "    <tr>\n",
       "      <th>2</th>\n",
       "      <td>Álbuns ao vivo</td>\n",
       "      <td>4</td>\n",
       "    </tr>\n",
       "    <tr>\n",
       "      <th>3</th>\n",
       "      <td>Álbuns de compilação</td>\n",
       "      <td>2</td>\n",
       "    </tr>\n",
       "    <tr>\n",
       "      <th>4</th>\n",
       "      <td>Álbuns de vídeo</td>\n",
       "      <td>5</td>\n",
       "    </tr>\n",
       "    <tr>\n",
       "      <th>5</th>\n",
       "      <td>Extended plays (EPs)</td>\n",
       "      <td>4</td>\n",
       "    </tr>\n",
       "    <tr>\n",
       "      <th>6</th>\n",
       "      <td>Singles</td>\n",
       "      <td>25</td>\n",
       "    </tr>\n",
       "    <tr>\n",
       "      <th>7</th>\n",
       "      <td>Lados B</td>\n",
       "      <td>13</td>\n",
       "    </tr>\n",
       "    <tr>\n",
       "      <th>8</th>\n",
       "      <td>Vídeos musicais</td>\n",
       "      <td>16</td>\n",
       "    </tr>\n",
       "    <tr>\n",
       "      <th>9</th>\n",
       "      <td>Álbuns de tributo</td>\n",
       "      <td>1</td>\n",
       "    </tr>\n",
       "    <tr>\n",
       "      <th>10</th>\n",
       "      <td>Vídeo single</td>\n",
       "      <td>2</td>\n",
       "    </tr>\n",
       "    <tr>\n",
       "      <th>11</th>\n",
       "      <td>Covers</td>\n",
       "      <td>10</td>\n",
       "    </tr>\n",
       "    <tr>\n",
       "      <th>12</th>\n",
       "      <td>Álbuns de remixes</td>\n",
       "      <td>2</td>\n",
       "    </tr>\n",
       "  </tbody>\n",
       "</table>\n",
       "</div>"
      ],
      "text/plain": [
       "   Discografia de Avril Lavigne Discografia de Avril Lavigne.1\n",
       "0   Lavigne em setembro de 2019    Lavigne em setembro de 2019\n",
       "1             Álbuns de estúdio                              7\n",
       "2                Álbuns ao vivo                              4\n",
       "3          Álbuns de compilação                              2\n",
       "4               Álbuns de vídeo                              5\n",
       "5          Extended plays (EPs)                              4\n",
       "6                       Singles                             25\n",
       "7                       Lados B                             13\n",
       "8               Vídeos musicais                             16\n",
       "9             Álbuns de tributo                              1\n",
       "10                 Vídeo single                              2\n",
       "11                       Covers                             10\n",
       "12            Álbuns de remixes                              2"
      ]
     },
     "execution_count": 5,
     "metadata": {},
     "output_type": "execute_result"
    }
   ],
   "source": [
    "# pd.read_html()serve para processar documentos HTML, lendo os dados contidos na <table>tag dentro do documento HTML a ser processado.\n",
    "mapadecaixa = pd.read_html('https://pt.wikipedia.org/wiki/Discografia_de_Avril_Lavigne',  header=0, flavor='html5lib')[0] #Puxa a tabela na tag \"table\", o \"[0]\" tras a primeira tabela\n",
    "# mapadecaixa = pd.read_html('24h.html')\n",
    "mapadecaixa"
   ]
  },
  {
   "cell_type": "code",
   "execution_count": null,
   "id": "7285fed6",
   "metadata": {},
   "outputs": [],
   "source": [
    "# Criando o DataFreme \"mapadecaixa\" e atribuindo o conteúdo do file \"Movimentao geral - CSV.csv\" a ele\n",
    "# mapadecaixa = pd.read_csv(os.getcwd() + \"\\\\Movimentação geral - CSV.csv\", encoding='ANSI', sep=',', header=0, thousands = '.', decimal = ',', dtype = {'Valor':np.float64})\n",
    "# mapadecaixa = pd.read_csv(os.getcwd() + \"\\\\24h.html\", encoding='ANSI', sep=',', header=0, thousands = '.', decimal = ',', dtype = {'Valor':np.float64})\n",
    "\n",
    "# url = 'https://pt.wikipedia.org/wiki/Discografia_de_Avril_Lavigne'\n",
    "# url = '\\\\24h.html'\n",
    "# mapadecaixa = pd.read_html(url)\n",
    "# len(mapadecaixa)\n",
    "# mapadecaixa\n",
    "\n",
    "mapadecaixa = pd.read_html(\"24h.html\")\n",
    "mapadecaixa\n",
    "\n",
    "# mapadecaixa = pd.read_html('24h.html')\n",
    "# Exemplo Old: Movimentação geral - CSV PontoVirgula\n",
    "# mapadecaixa = pd.read_csv(os.getcwd() + \"\\\\Movimentao geral - CSV.csv\", encoding='ANSI', sep=',', header=0)\n",
    "# Obtendo arquivo de um endereço da web\n",
    "# mapadecaixa = pd.read_csv(os.getcwd() + \"https://media.geeksforgeeks.org/wp-content/uploads/nba.csv\", encoding='ANSI', sep=',', header=0)\n",
    "\n",
    "# mapadecaixa = pd.read_csv(os.getcwd() + \"\\\\..\\\\..\\\\Users\\\\lmiguel\\\\Downloads\\\\Movimentao geral - CSV.csv\", encoding='ANSI', sep=',', header=0)\n",
    "# os.getcwd()\n",
    "\n",
    "#Retorna as 5 primeiras linhas\n",
    "\n",
    "\n",
    "# mapadecaixa.head(5) # O número indica a quantidade de linha que a ser exibida."
   ]
  },
  {
   "cell_type": "code",
   "execution_count": null,
   "id": "9096848e",
   "metadata": {},
   "outputs": [],
   "source": [
    "# Qualquer coisa que não seja numerico o Pandas exibe como objeto\n",
    "\n",
    "mapadecaixa.dtypes"
   ]
  },
  {
   "cell_type": "code",
   "execution_count": null,
   "id": "72a384f8",
   "metadata": {},
   "outputs": [],
   "source": [
    "mapadecaixa['HISTORICO'] = 10.01 #adicionando colunas\n",
    "mapadecaixa['CREDITO'] = 10164 #adicionando colunas\n",
    "# Renomeando as colunas\n",
    "colunas = {'4o. Agrupamento':'FILIAL', 'Descrição':'DESCRIÇÃO','Crédito':'DEBITO', 'Emissão':'DATA', 'Valor':'VALOR'}\n",
    "mapadecaixa.rename(columns = colunas, inplace=True) # o inplace=True muda os dados diretamente no DataFreme\n",
    "# Lendo o DataFreme com as colunas renomeadas\n",
    "\n",
    "\n",
    "mapadecaixa.head() \n",
    "# mapadecaixa.columns.to_list()"
   ]
  },
  {
   "cell_type": "code",
   "execution_count": null,
   "id": "d19de57d",
   "metadata": {},
   "outputs": [],
   "source": [
    "#Substituindo a Virgula por Ponto\n",
    "# Obs.: Quando converte os valores da coluna \"VALOR\" para str (STRING) não conseguira mais realizar funções matemática, pois não será mais do tipo int, float\n",
    "\n",
    "# mapadecaixa['VALOR'] = mapadecaixa['VALOR'].astype(str)\n",
    "# mapadecaixa['VALOR'] = mapadecaixa['VALOR'].str.replace(',','.')\n",
    "# mapadecaixa.head()\n",
    "\n",
    "# Convertendo para \"float64\" para fazer calculos, caso necessario:\n",
    "# mapadecaixa['VALOR'] = mapadecaixa['VALOR'].str.replace(',', '.').astype('float64')\n",
    "\n",
    "########## Obs.: Não precisa usar o codigo acima pois já foi inserindo a seguinte linha na abertura do arquivo que já faz esse tratativa:\n",
    "# mapadecaixa = pd.read_csv(os.getcwd() + \"\\\\Movimentao geral - CSV.csv\", encoding='ANSI', sep=',', header=0, thousands = '.', decimal = ',', dtype = {'Valor':np.float64})\n"
   ]
  },
  {
   "cell_type": "code",
   "execution_count": null,
   "id": "78ce5276",
   "metadata": {},
   "outputs": [],
   "source": [
    "# listando colunas do DataFreme\n",
    "\n",
    "\n",
    "mapadecaixa.columns"
   ]
  },
  {
   "cell_type": "code",
   "execution_count": null,
   "id": "ed41c4fd",
   "metadata": {},
   "outputs": [],
   "source": [
    "# Ordenando colunas\n",
    "new_ordem_colls = ['FILIAL', 'DATA', 'DEBITO', 'CREDITO', 'VALOR', 'HISTORICO']\n",
    "mapadecaixa = mapadecaixa[new_ordem_colls]\n",
    "\n",
    "\n",
    "mapadecaixa.head()"
   ]
  },
  {
   "cell_type": "code",
   "execution_count": null,
   "id": "bfa35c52",
   "metadata": {},
   "outputs": [],
   "source": [
    "### Inserindo valores nas linhas da coluna 'FILIAL' a partir da entrada do usuário\n",
    "# mapadecaixa = str(input(\"Digite a Filial: \"))\n",
    "filial = input(\"Digite a Filial: \")\n",
    "mapadecaixa['FILIAL'] = filial\n",
    "\n",
    "# Inserindo o valor '8080' em todas as linhas da coluna 'Descrição'\n",
    "# mapadecaixa['Descrição'] = '8080'\n",
    "# Inserindo o valor '8080' na linha '1' da coluna 'Valor'\n",
    "# mapadecaixa.Valor[1] = '8080'\n",
    "# Inserindo o valor '8080' na linha '3' da coluna 'Valor'usando o LOC\n",
    "# mapadecaixa.loc[3, 'Valor'] = '8080'"
   ]
  },
  {
   "cell_type": "code",
   "execution_count": null,
   "id": "8b55fdcc",
   "metadata": {},
   "outputs": [],
   "source": [
    "# Qualquer coisa que não seja numerico o Pandas exibe como objeto\n",
    "\n",
    "mapadecaixa.dtypes"
   ]
  },
  {
   "cell_type": "code",
   "execution_count": null,
   "id": "3f41536e",
   "metadata": {},
   "outputs": [],
   "source": [
    "# Usando o to_csv para exportar o arquivo\n",
    "mapadecaixa.to_csv('MapaCaixa.csv', index=False) # O Index false, remove a coluna de indice que o dataframe cria no inicio."
   ]
  },
  {
   "cell_type": "code",
   "execution_count": null,
   "id": "02d64584",
   "metadata": {},
   "outputs": [],
   "source": [
    "# Lendo o file csv\n",
    "\n",
    "\n",
    "mapadecaixa = pd.read_csv(os.getcwd() + \"\\\\MapaCaixa.csv\", encoding='ANSI', sep=',', header=0)\n",
    "mapadecaixa.head() "
   ]
  },
  {
   "cell_type": "code",
   "execution_count": null,
   "id": "0dc14c7d",
   "metadata": {},
   "outputs": [],
   "source": [
    "#Qualquer coisa que não seja numerico o Pandas exibe como objeto\n",
    "# mapadecaixa.dtypes"
   ]
  },
  {
   "cell_type": "code",
   "execution_count": null,
   "id": "23f8e0f4",
   "metadata": {},
   "outputs": [],
   "source": [
    "#Tipos de dados do DataFreme\n",
    "# type(mapadecaixa)"
   ]
  },
  {
   "cell_type": "code",
   "execution_count": null,
   "id": "e3344224",
   "metadata": {},
   "outputs": [],
   "source": [
    "#Retorna a 2 primeiras linhas\n",
    "# mapadecaixa.loc[:2] "
   ]
  },
  {
   "cell_type": "code",
   "execution_count": null,
   "id": "881b814a",
   "metadata": {},
   "outputs": [],
   "source": [
    "# mapadecaixa.columns.to_list()\n",
    "# mapadecaixa.columns"
   ]
  },
  {
   "cell_type": "code",
   "execution_count": null,
   "id": "3651810d",
   "metadata": {},
   "outputs": [],
   "source": [
    "#p = Path(os.getcwd())\n",
    "#pd.read_csv(str(p.parent.parent) + '\\\\Users\\\\lmiguel\\\\Downloads\\\\Movimentao geral - CSV.csv', encoding='ANSI', sep=',', header=0)"
   ]
  },
  {
   "cell_type": "code",
   "execution_count": null,
   "id": "22dea206",
   "metadata": {},
   "outputs": [],
   "source": [
    "# df = pd.read_csv('Movimentao geral - CSV.csv', encoding='ANSI', sep=',', header=0)\n",
    "# df.head()"
   ]
  },
  {
   "cell_type": "code",
   "execution_count": null,
   "id": "813bd0d7",
   "metadata": {},
   "outputs": [],
   "source": [
    "# O método read_csv bem como outros métodos de leitura de arquivo do Pandas vem com parâmetros que facilitam a coleta dos dados adaptando-os a realidade da região que os dados foram construídos. Para o caso de existir separação de milhar com pontos e casas decimais com vírgula, o que é algo um pouco fora do comum em algumas regiões e banco de dados, o Pandas trouxe a opção de definir os parâmetros thousands, decimal e dtype logo no método de leitura.\n",
    "# O parâmetro thousands permite que seja definido qual o separador das casas de milhar, decimal permite definir o separador das casas decimais e o dtype permite que possamos definir o tipo das variáveis presentes nas colunas do nosso banco de dados. Então, atribuindo o ponto a thousands, a vírgula a decimal e float64 como o tipo da colunas 'dotacao' e 'empenhada', teremos os dados numéricos, da forma que precisamos para trabalhar com eles, segue abaixo o código dessa aplicação:\n",
    "\n",
    "# orcamento = pd.read_csv('orcamento.csv', thousands = '.', decimal = ',', dtype = {'dotacao':np.float64,'empenhada': np.float64})\n",
    "\n",
    "# Nosso Exemplo:\n",
    "# mapadecaixa = pd.read_csv(os.getcwd() + \"\\\\Movimentao geral - CSV.csv\", encoding='ANSI', sep=',', header=0, thousands = '.', decimal = ',', dtype = {'Valor':np.float64})\n"
   ]
  }
 ],
 "metadata": {
  "kernelspec": {
   "display_name": "Python 3 (ipykernel)",
   "language": "python",
   "name": "python3"
  },
  "language_info": {
   "codemirror_mode": {
    "name": "ipython",
    "version": 3
   },
   "file_extension": ".py",
   "mimetype": "text/x-python",
   "name": "python",
   "nbconvert_exporter": "python",
   "pygments_lexer": "ipython3",
   "version": "3.10.2"
  }
 },
 "nbformat": 4,
 "nbformat_minor": 5
}
