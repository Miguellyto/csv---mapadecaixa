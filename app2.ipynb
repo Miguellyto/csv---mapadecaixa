{
 "cells": [
  {
   "cell_type": "code",
   "execution_count": 8,
   "id": "0e0fefbc",
   "metadata": {},
   "outputs": [],
   "source": [
    "# pip install lxml bs4 html5lib selenium requests\n",
    "# from selenium import webdriver\n",
    "# import lxml\n",
    "import pandas as pd\n",
    "import numpy as np\n",
    "import os\n",
    "from pathlib import Path\n",
    "import html5lib \n",
    "from bs4 import BeautifulSoup\n",
    "import re\n",
    "import requests"
   ]
  },
  {
   "cell_type": "code",
   "execution_count": 11,
   "id": "3fe7f76d",
   "metadata": {},
   "outputs": [
    {
     "data": {
      "text/html": [
       "<div>\n",
       "<style scoped>\n",
       "    .dataframe tbody tr th:only-of-type {\n",
       "        vertical-align: middle;\n",
       "    }\n",
       "\n",
       "    .dataframe tbody tr th {\n",
       "        vertical-align: top;\n",
       "    }\n",
       "\n",
       "    .dataframe thead th {\n",
       "        text-align: right;\n",
       "    }\n",
       "</style>\n",
       "<table border=\"1\" class=\"dataframe\">\n",
       "  <thead>\n",
       "    <tr style=\"text-align: right;\">\n",
       "      <th></th>\n",
       "      <th>userId</th>\n",
       "      <th>id</th>\n",
       "      <th>title</th>\n",
       "      <th>body</th>\n",
       "    </tr>\n",
       "  </thead>\n",
       "  <tbody>\n",
       "    <tr>\n",
       "      <th>0</th>\n",
       "      <td>1</td>\n",
       "      <td>1</td>\n",
       "      <td>sunt aut facere repellat provident occaecati e...</td>\n",
       "      <td>quia et suscipit\\nsuscipit recusandae consequu...</td>\n",
       "    </tr>\n",
       "    <tr>\n",
       "      <th>1</th>\n",
       "      <td>1</td>\n",
       "      <td>2</td>\n",
       "      <td>qui est esse</td>\n",
       "      <td>est rerum tempore vitae\\nsequi sint nihil repr...</td>\n",
       "    </tr>\n",
       "    <tr>\n",
       "      <th>2</th>\n",
       "      <td>1</td>\n",
       "      <td>3</td>\n",
       "      <td>ea molestias quasi exercitationem repellat qui...</td>\n",
       "      <td>et iusto sed quo iure\\nvoluptatem occaecati om...</td>\n",
       "    </tr>\n",
       "    <tr>\n",
       "      <th>3</th>\n",
       "      <td>1</td>\n",
       "      <td>4</td>\n",
       "      <td>eum et est occaecati</td>\n",
       "      <td>ullam et saepe reiciendis voluptatem adipisci\\...</td>\n",
       "    </tr>\n",
       "    <tr>\n",
       "      <th>4</th>\n",
       "      <td>1</td>\n",
       "      <td>5</td>\n",
       "      <td>nesciunt quas odio</td>\n",
       "      <td>repudiandae veniam quaerat sunt sed\\nalias aut...</td>\n",
       "    </tr>\n",
       "    <tr>\n",
       "      <th>...</th>\n",
       "      <td>...</td>\n",
       "      <td>...</td>\n",
       "      <td>...</td>\n",
       "      <td>...</td>\n",
       "    </tr>\n",
       "    <tr>\n",
       "      <th>95</th>\n",
       "      <td>10</td>\n",
       "      <td>96</td>\n",
       "      <td>quaerat velit veniam amet cupiditate aut numqu...</td>\n",
       "      <td>in non odio excepturi sint eum\\nlabore volupta...</td>\n",
       "    </tr>\n",
       "    <tr>\n",
       "      <th>96</th>\n",
       "      <td>10</td>\n",
       "      <td>97</td>\n",
       "      <td>quas fugiat ut perspiciatis vero provident</td>\n",
       "      <td>eum non blanditiis soluta porro quibusdam volu...</td>\n",
       "    </tr>\n",
       "    <tr>\n",
       "      <th>97</th>\n",
       "      <td>10</td>\n",
       "      <td>98</td>\n",
       "      <td>laboriosam dolor voluptates</td>\n",
       "      <td>doloremque ex facilis sit sint culpa\\nsoluta a...</td>\n",
       "    </tr>\n",
       "    <tr>\n",
       "      <th>98</th>\n",
       "      <td>10</td>\n",
       "      <td>99</td>\n",
       "      <td>temporibus sit alias delectus eligendi possimu...</td>\n",
       "      <td>quo deleniti praesentium dicta non quod\\naut e...</td>\n",
       "    </tr>\n",
       "    <tr>\n",
       "      <th>99</th>\n",
       "      <td>10</td>\n",
       "      <td>100</td>\n",
       "      <td>at nam consequatur ea labore ea harum</td>\n",
       "      <td>cupiditate quo est a modi nesciunt soluta\\nips...</td>\n",
       "    </tr>\n",
       "  </tbody>\n",
       "</table>\n",
       "<p>100 rows × 4 columns</p>\n",
       "</div>"
      ],
      "text/plain": [
       "    userId   id                                              title  \\\n",
       "0        1    1  sunt aut facere repellat provident occaecati e...   \n",
       "1        1    2                                       qui est esse   \n",
       "2        1    3  ea molestias quasi exercitationem repellat qui...   \n",
       "3        1    4                               eum et est occaecati   \n",
       "4        1    5                                 nesciunt quas odio   \n",
       "..     ...  ...                                                ...   \n",
       "95      10   96  quaerat velit veniam amet cupiditate aut numqu...   \n",
       "96      10   97         quas fugiat ut perspiciatis vero provident   \n",
       "97      10   98                        laboriosam dolor voluptates   \n",
       "98      10   99  temporibus sit alias delectus eligendi possimu...   \n",
       "99      10  100              at nam consequatur ea labore ea harum   \n",
       "\n",
       "                                                 body  \n",
       "0   quia et suscipit\\nsuscipit recusandae consequu...  \n",
       "1   est rerum tempore vitae\\nsequi sint nihil repr...  \n",
       "2   et iusto sed quo iure\\nvoluptatem occaecati om...  \n",
       "3   ullam et saepe reiciendis voluptatem adipisci\\...  \n",
       "4   repudiandae veniam quaerat sunt sed\\nalias aut...  \n",
       "..                                                ...  \n",
       "95  in non odio excepturi sint eum\\nlabore volupta...  \n",
       "96  eum non blanditiis soluta porro quibusdam volu...  \n",
       "97  doloremque ex facilis sit sint culpa\\nsoluta a...  \n",
       "98  quo deleniti praesentium dicta non quod\\naut e...  \n",
       "99  cupiditate quo est a modi nesciunt soluta\\nips...  \n",
       "\n",
       "[100 rows x 4 columns]"
      ]
     },
     "execution_count": 11,
     "metadata": {},
     "output_type": "execute_result"
    }
   ],
   "source": [
    "# LENDO FILE JSON PARA UM DATAFRAME\n",
    "# mapa=pd.read_json(\"https://servicodados.ibge.gov.br/api/v1/censos/nomes/ranking?qtd=20&sexo=f\")\n",
    "# mapa=pd.read_json(\"http://jsonplaceholder.typicode.com/users/\")\n",
    "mapa=pd.read_json(\"https://jsonplaceholder.typicode.com/posts/\")\n",
    "mapa"
   ]
  },
  {
   "cell_type": "code",
   "execution_count": 13,
   "id": "e49c5569",
   "metadata": {},
   "outputs": [],
   "source": [
    "# SALVANDO O FILE JSON EM CSV\n",
    "mapa.to_csv('FileJSONcsv.csv', index=False) # O Index false, remove a coluna de indice que o dataframe cria no inicio."
   ]
  },
  {
   "cell_type": "code",
   "execution_count": null,
   "id": "372fdfee",
   "metadata": {},
   "outputs": [],
   "source": [
    "# SALVANDO O FILE JSON EM EXCEL\n",
    "mapa.to_excel('FileJSONexcel.xlsx', index=False) # O Index false, remove a coluna de indice que o dataframe cria no inicio."
   ]
  },
  {
   "cell_type": "code",
   "execution_count": null,
   "id": "8687c79e",
   "metadata": {},
   "outputs": [],
   "source": []
  },
  {
   "cell_type": "code",
   "execution_count": null,
   "id": "fcf1df2b",
   "metadata": {},
   "outputs": [],
   "source": [
    "html = '24h.html'"
   ]
  },
  {
   "cell_type": "code",
   "execution_count": null,
   "id": "dd4a91cf",
   "metadata": {},
   "outputs": [],
   "source": [
    "soup = BeautifulSoup(open(html), \"html.parser\")"
   ]
  },
  {
   "cell_type": "code",
   "execution_count": null,
   "id": "6c17b1a8",
   "metadata": {},
   "outputs": [],
   "source": [
    "data = soup.findAll('li')"
   ]
  },
  {
   "cell_type": "code",
   "execution_count": null,
   "id": "1f4adec5",
   "metadata": {},
   "outputs": [],
   "source": [
    "dorms = [i.text for i in data if i.text == 'Playlist']\n",
    "dorms"
   ]
  },
  {
   "cell_type": "code",
   "execution_count": null,
   "id": "e89aaf5d",
   "metadata": {},
   "outputs": [],
   "source": [
    "# mapadecaixa = BeautifulSoup('24h.html')\n",
    "\n",
    "# for ol in mapadecaixa.find_all('ol', {'id': re.compile('name\\d+')}):\n",
    "#     for li in ol.find_all('li'):"
   ]
  },
  {
   "cell_type": "code",
   "execution_count": null,
   "id": "0cd600eb",
   "metadata": {},
   "outputs": [],
   "source": [
    "# Obeter informações de página dinamica:\n",
    "# driver = webdriver.Chrome('C:/chromedriver_win32/chromedriver.exe')\n",
    "# driver.get(\"https://www.wunderground.com/history/daily/us/wi/milwaukee/KMKE/date/2013-6-26\")\n",
    "\n",
    "# html = driver.page_source\n",
    "\n",
    "# tables = pd.read_html(html)"
   ]
  },
  {
   "cell_type": "code",
   "execution_count": null,
   "id": "36caad9d",
   "metadata": {},
   "outputs": [],
   "source": [
    "# pd.read_html()serve para processar documentos HTML, lendo os dados contidos na <table>tag dentro do documento HTML a ser processado.\n",
    "# mapadecaixa = pd.read_html('https://pt.wikipedia.org/wiki/Discografia_de_Avril_Lavigne',  header=0, flavor='html5lib')[0] #Puxa a tabela na tag \"table\", o \"[0]\" tras a primeira tabela\n",
    "mapadecaixa = pd.read_html('24h.html')\n",
    "mapadecaixa"
   ]
  },
  {
   "cell_type": "code",
   "execution_count": null,
   "id": "7285fed6",
   "metadata": {},
   "outputs": [],
   "source": [
    "# Criando o DataFreme \"mapadecaixa\" e atribuindo o conteúdo do file \"Movimentao geral - CSV.csv\" a ele\n",
    "# mapadecaixa = pd.read_csv(os.getcwd() + \"\\\\Movimentação geral - CSV.csv\", encoding='ANSI', sep=',', header=0, thousands = '.', decimal = ',', dtype = {'Valor':np.float64})\n",
    "# mapadecaixa = pd.read_csv(os.getcwd() + \"\\\\24h.html\", encoding='ANSI', sep=',', header=0, thousands = '.', decimal = ',', dtype = {'Valor':np.float64})\n",
    "\n",
    "# url = 'https://pt.wikipedia.org/wiki/Discografia_de_Avril_Lavigne'\n",
    "# url = '\\\\24h.html'\n",
    "# mapadecaixa = pd.read_html(url)\n",
    "# len(mapadecaixa)\n",
    "# mapadecaixa\n",
    "\n",
    "mapadecaixa = pd.read_html(\"24h.html\")\n",
    "mapadecaixa\n",
    "\n",
    "# mapadecaixa = pd.read_html('24h.html')\n",
    "# Exemplo Old: Movimentação geral - CSV PontoVirgula\n",
    "# mapadecaixa = pd.read_csv(os.getcwd() + \"\\\\Movimentao geral - CSV.csv\", encoding='ANSI', sep=',', header=0)\n",
    "# Obtendo arquivo de um endereço da web\n",
    "# mapadecaixa = pd.read_csv(os.getcwd() + \"https://media.geeksforgeeks.org/wp-content/uploads/nba.csv\", encoding='ANSI', sep=',', header=0)\n",
    "\n",
    "# mapadecaixa = pd.read_csv(os.getcwd() + \"\\\\..\\\\..\\\\Users\\\\lmiguel\\\\Downloads\\\\Movimentao geral - CSV.csv\", encoding='ANSI', sep=',', header=0)\n",
    "# os.getcwd()\n",
    "\n",
    "#Retorna as 5 primeiras linhas\n",
    "\n",
    "\n",
    "# mapadecaixa.head(5) # O número indica a quantidade de linha que a ser exibida."
   ]
  },
  {
   "cell_type": "code",
   "execution_count": null,
   "id": "9096848e",
   "metadata": {},
   "outputs": [],
   "source": [
    "# Qualquer coisa que não seja numerico o Pandas exibe como objeto\n",
    "\n",
    "mapadecaixa.dtypes"
   ]
  },
  {
   "cell_type": "code",
   "execution_count": null,
   "id": "72a384f8",
   "metadata": {},
   "outputs": [],
   "source": [
    "mapadecaixa['HISTORICO'] = 10.01 #adicionando colunas\n",
    "mapadecaixa['CREDITO'] = 10164 #adicionando colunas\n",
    "# Renomeando as colunas\n",
    "colunas = {'4o. Agrupamento':'FILIAL', 'Descrição':'DESCRIÇÃO','Crédito':'DEBITO', 'Emissão':'DATA', 'Valor':'VALOR'}\n",
    "mapadecaixa.rename(columns = colunas, inplace=True) # o inplace=True muda os dados diretamente no DataFreme\n",
    "# Lendo o DataFreme com as colunas renomeadas\n",
    "\n",
    "\n",
    "mapadecaixa.head() \n",
    "# mapadecaixa.columns.to_list()"
   ]
  },
  {
   "cell_type": "code",
   "execution_count": null,
   "id": "d19de57d",
   "metadata": {},
   "outputs": [],
   "source": [
    "#Substituindo a Virgula por Ponto\n",
    "# Obs.: Quando converte os valores da coluna \"VALOR\" para str (STRING) não conseguira mais realizar funções matemática, pois não será mais do tipo int, float\n",
    "\n",
    "# mapadecaixa['VALOR'] = mapadecaixa['VALOR'].astype(str)\n",
    "# mapadecaixa['VALOR'] = mapadecaixa['VALOR'].str.replace(',','.')\n",
    "# mapadecaixa.head()\n",
    "\n",
    "# Convertendo para \"float64\" para fazer calculos, caso necessario:\n",
    "# mapadecaixa['VALOR'] = mapadecaixa['VALOR'].str.replace(',', '.').astype('float64')\n",
    "\n",
    "########## Obs.: Não precisa usar o codigo acima pois já foi inserindo a seguinte linha na abertura do arquivo que já faz esse tratativa:\n",
    "# mapadecaixa = pd.read_csv(os.getcwd() + \"\\\\Movimentao geral - CSV.csv\", encoding='ANSI', sep=',', header=0, thousands = '.', decimal = ',', dtype = {'Valor':np.float64})\n"
   ]
  },
  {
   "cell_type": "code",
   "execution_count": null,
   "id": "78ce5276",
   "metadata": {},
   "outputs": [],
   "source": [
    "# listando colunas do DataFreme\n",
    "\n",
    "\n",
    "mapadecaixa.columns"
   ]
  },
  {
   "cell_type": "code",
   "execution_count": null,
   "id": "ed41c4fd",
   "metadata": {},
   "outputs": [],
   "source": [
    "# Ordenando colunas\n",
    "new_ordem_colls = ['FILIAL', 'DATA', 'DEBITO', 'CREDITO', 'VALOR', 'HISTORICO']\n",
    "mapadecaixa = mapadecaixa[new_ordem_colls]\n",
    "\n",
    "\n",
    "mapadecaixa.head()"
   ]
  },
  {
   "cell_type": "code",
   "execution_count": null,
   "id": "bfa35c52",
   "metadata": {},
   "outputs": [],
   "source": [
    "### Inserindo valores nas linhas da coluna 'FILIAL' a partir da entrada do usuário\n",
    "# mapadecaixa = str(input(\"Digite a Filial: \"))\n",
    "filial = input(\"Digite a Filial: \")\n",
    "mapadecaixa['FILIAL'] = filial\n",
    "\n",
    "# Inserindo o valor '8080' em todas as linhas da coluna 'Descrição'\n",
    "# mapadecaixa['Descrição'] = '8080'\n",
    "# Inserindo o valor '8080' na linha '1' da coluna 'Valor'\n",
    "# mapadecaixa.Valor[1] = '8080'\n",
    "# Inserindo o valor '8080' na linha '3' da coluna 'Valor'usando o LOC\n",
    "# mapadecaixa.loc[3, 'Valor'] = '8080'"
   ]
  },
  {
   "cell_type": "code",
   "execution_count": null,
   "id": "8b55fdcc",
   "metadata": {},
   "outputs": [],
   "source": [
    "# Qualquer coisa que não seja numerico o Pandas exibe como objeto\n",
    "\n",
    "mapadecaixa.dtypes"
   ]
  },
  {
   "cell_type": "code",
   "execution_count": null,
   "id": "3f41536e",
   "metadata": {},
   "outputs": [],
   "source": [
    "# Usando o to_csv para exportar o arquivo\n",
    "mapadecaixa.to_csv('MapaCaixa.csv', index=False) # O Index false, remove a coluna de indice que o dataframe cria no inicio."
   ]
  },
  {
   "cell_type": "code",
   "execution_count": null,
   "id": "02d64584",
   "metadata": {},
   "outputs": [],
   "source": [
    "# Lendo o file csv\n",
    "\n",
    "\n",
    "mapadecaixa = pd.read_csv(os.getcwd() + \"\\\\MapaCaixa.csv\", encoding='ANSI', sep=',', header=0)\n",
    "mapadecaixa.head() "
   ]
  },
  {
   "cell_type": "code",
   "execution_count": null,
   "id": "0dc14c7d",
   "metadata": {},
   "outputs": [],
   "source": [
    "#Qualquer coisa que não seja numerico o Pandas exibe como objeto\n",
    "# mapadecaixa.dtypes"
   ]
  },
  {
   "cell_type": "code",
   "execution_count": null,
   "id": "23f8e0f4",
   "metadata": {},
   "outputs": [],
   "source": [
    "#Tipos de dados do DataFreme\n",
    "# type(mapadecaixa)"
   ]
  },
  {
   "cell_type": "code",
   "execution_count": null,
   "id": "e3344224",
   "metadata": {},
   "outputs": [],
   "source": [
    "#Retorna a 2 primeiras linhas\n",
    "# mapadecaixa.loc[:2] "
   ]
  },
  {
   "cell_type": "code",
   "execution_count": null,
   "id": "881b814a",
   "metadata": {},
   "outputs": [],
   "source": [
    "# mapadecaixa.columns.to_list()\n",
    "# mapadecaixa.columns"
   ]
  },
  {
   "cell_type": "code",
   "execution_count": null,
   "id": "3651810d",
   "metadata": {},
   "outputs": [],
   "source": [
    "#p = Path(os.getcwd())\n",
    "#pd.read_csv(str(p.parent.parent) + '\\\\Users\\\\lmiguel\\\\Downloads\\\\Movimentao geral - CSV.csv', encoding='ANSI', sep=',', header=0)"
   ]
  },
  {
   "cell_type": "code",
   "execution_count": null,
   "id": "22dea206",
   "metadata": {},
   "outputs": [],
   "source": [
    "# df = pd.read_csv('Movimentao geral - CSV.csv', encoding='ANSI', sep=',', header=0)\n",
    "# df.head()"
   ]
  },
  {
   "cell_type": "code",
   "execution_count": null,
   "id": "813bd0d7",
   "metadata": {},
   "outputs": [],
   "source": [
    "# O método read_csv bem como outros métodos de leitura de arquivo do Pandas vem com parâmetros que facilitam a coleta dos dados adaptando-os a realidade da região que os dados foram construídos. Para o caso de existir separação de milhar com pontos e casas decimais com vírgula, o que é algo um pouco fora do comum em algumas regiões e banco de dados, o Pandas trouxe a opção de definir os parâmetros thousands, decimal e dtype logo no método de leitura.\n",
    "# O parâmetro thousands permite que seja definido qual o separador das casas de milhar, decimal permite definir o separador das casas decimais e o dtype permite que possamos definir o tipo das variáveis presentes nas colunas do nosso banco de dados. Então, atribuindo o ponto a thousands, a vírgula a decimal e float64 como o tipo da colunas 'dotacao' e 'empenhada', teremos os dados numéricos, da forma que precisamos para trabalhar com eles, segue abaixo o código dessa aplicação:\n",
    "\n",
    "# orcamento = pd.read_csv('orcamento.csv', thousands = '.', decimal = ',', dtype = {'dotacao':np.float64,'empenhada': np.float64})\n",
    "\n",
    "# Nosso Exemplo:\n",
    "# mapadecaixa = pd.read_csv(os.getcwd() + \"\\\\Movimentao geral - CSV.csv\", encoding='ANSI', sep=',', header=0, thousands = '.', decimal = ',', dtype = {'Valor':np.float64})\n"
   ]
  }
 ],
 "metadata": {
  "kernelspec": {
   "display_name": "Python 3 (ipykernel)",
   "language": "python",
   "name": "python3"
  },
  "language_info": {
   "codemirror_mode": {
    "name": "ipython",
    "version": 3
   },
   "file_extension": ".py",
   "mimetype": "text/x-python",
   "name": "python",
   "nbconvert_exporter": "python",
   "pygments_lexer": "ipython3",
   "version": "3.10.2"
  }
 },
 "nbformat": 4,
 "nbformat_minor": 5
}
