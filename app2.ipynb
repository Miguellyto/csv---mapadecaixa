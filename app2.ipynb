{
 "cells": [
  {
   "cell_type": "code",
   "execution_count": null,
   "id": "0e0fefbc",
   "metadata": {},
   "outputs": [],
   "source": [
    "# pip install lxml bs4 html5lib selenium requests\n",
    "# from selenium import webdriver\n",
    "# import lxml\n",
    "import pandas as pd\n",
    "import numpy as np\n",
    "import os\n",
    "from pathlib import Path\n",
    "import html5lib \n",
    "from bs4 import BeautifulSoup\n",
    "import re\n",
    "import requests"
   ]
  },
  {
   "cell_type": "code",
   "execution_count": null,
   "id": "be200bd5",
   "metadata": {},
   "outputs": [],
   "source": [
    "# LENDO ARQUIVO HTML\n",
    "# Lista = pd.\n",
    "Lista = open('24h.html','r').read()\n",
    "soup = BeautifulSoup(Lista, \"html.parser\")\n",
    "# Lista = soup.find_all('li')\n",
    "# Lista = soup.findAll('ol')\n",
    "Lista = soup.findAll('li')\n",
    "\n",
    "# Lista.head(38)\n",
    "Lista"
   ]
  },
  {
   "cell_type": "code",
   "execution_count": null,
   "id": "ca479662",
   "metadata": {},
   "outputs": [],
   "source": [
    "Lista = pd.DataFrame(Lista)\n",
    "# soup = pd.DataFrame(Lista)\n",
    "# soup = pd.DataFrame(Lista, columns=['nome', 'hora'])"
   ]
  },
  {
   "cell_type": "code",
   "execution_count": null,
   "id": "960ae497",
   "metadata": {},
   "outputs": [],
   "source": [
    "# SALVANDO O FILE JSON EM CSV\n",
    "Lista.to_csv('FileHTML_CSV.csv', index=False) # O Index false, remove a coluna de indice que o dataframe cria no inicio."
   ]
  },
  {
   "cell_type": "code",
   "execution_count": null,
   "id": "12f60dbc",
   "metadata": {},
   "outputs": [],
   "source": [
    "# SALVANDO O FILE JSON EM EXCEL\n",
    "Lista.to_excel('FileHTML_Excel.xlsx', index=False) # O Index false, remove a coluna de indice que o dataframe cria no inicio."
   ]
  },
  {
   "cell_type": "code",
   "execution_count": null,
   "id": "e89aaf5d",
   "metadata": {},
   "outputs": [],
   "source": [
    "# mapadecaixa = BeautifulSoup('24h.html')\n",
    "\n",
    "# for ol in mapadecaixa.find_all('ol', {'id': re.compile('name\\d+')}):\n",
    "#     for li in ol.find_all('li'):"
   ]
  },
  {
   "cell_type": "code",
   "execution_count": null,
   "id": "0cd600eb",
   "metadata": {},
   "outputs": [],
   "source": [
    "# Obeter informações de página dinamica:\n",
    "# driver = webdriver.Chrome('C:/chromedriver_win32/chromedriver.exe')\n",
    "# driver.get(\"https://www.wunderground.com/history/daily/us/wi/milwaukee/KMKE/date/2013-6-26\")\n",
    "\n",
    "# html = driver.page_source\n",
    "\n",
    "# tables = pd.read_html(html)"
   ]
  },
  {
   "cell_type": "code",
   "execution_count": null,
   "id": "72a384f8",
   "metadata": {},
   "outputs": [],
   "source": [
    "mapadecaixa['HISTORICO'] = 10.01 #adicionando colunas\n",
    "mapadecaixa['CREDITO'] = 10164 #adicionando colunas\n",
    "# Renomeando as colunas\n",
    "colunas = {'4o. Agrupamento':'FILIAL', 'Descrição':'DESCRIÇÃO','Crédito':'DEBITO', 'Emissão':'DATA', 'Valor':'VALOR'}\n",
    "mapadecaixa.rename(columns = colunas, inplace=True) # o inplace=True muda os dados diretamente no DataFreme\n",
    "# Lendo o DataFreme com as colunas renomeadas\n",
    "\n",
    "\n",
    "mapadecaixa.head() \n",
    "# mapadecaixa.columns.to_list()"
   ]
  },
  {
   "cell_type": "code",
   "execution_count": null,
   "id": "ed41c4fd",
   "metadata": {},
   "outputs": [],
   "source": [
    "# Ordenando colunas\n",
    "new_ordem_colls = ['FILIAL', 'DATA', 'DEBITO', 'CREDITO', 'VALOR', 'HISTORICO']\n",
    "mapadecaixa = mapadecaixa[new_ordem_colls]\n",
    "\n",
    "\n",
    "mapadecaixa.head()"
   ]
  },
  {
   "cell_type": "code",
   "execution_count": null,
   "id": "bfa35c52",
   "metadata": {},
   "outputs": [],
   "source": [
    "### Inserindo valores nas linhas da coluna 'FILIAL' a partir da entrada do usuário\n",
    "# mapadecaixa = str(input(\"Digite a Filial: \"))\n",
    "filial = input(\"Digite a Filial: \")\n",
    "mapadecaixa['FILIAL'] = filial\n",
    "\n",
    "# Inserindo o valor '8080' em todas as linhas da coluna 'Descrição'\n",
    "# mapadecaixa['Descrição'] = '8080'\n",
    "# Inserindo o valor '8080' na linha '1' da coluna 'Valor'\n",
    "# mapadecaixa.Valor[1] = '8080'\n",
    "# Inserindo o valor '8080' na linha '3' da coluna 'Valor'usando o LOC\n",
    "# mapadecaixa.loc[3, 'Valor'] = '8080'"
   ]
  },
  {
   "cell_type": "code",
   "execution_count": null,
   "id": "8b55fdcc",
   "metadata": {},
   "outputs": [],
   "source": [
    "# Qualquer coisa que não seja numerico o Pandas exibe como objeto\n",
    "\n",
    "mapadecaixa.dtypes"
   ]
  },
  {
   "cell_type": "code",
   "execution_count": null,
   "id": "3f41536e",
   "metadata": {},
   "outputs": [],
   "source": [
    "# Usando o to_csv para exportar o arquivo\n",
    "mapadecaixa.to_csv('MapaCaixa.csv', index=False) # O Index false, remove a coluna de indice que o dataframe cria no inicio."
   ]
  },
  {
   "cell_type": "code",
   "execution_count": null,
   "id": "02d64584",
   "metadata": {},
   "outputs": [],
   "source": [
    "# Lendo o file csv\n",
    "\n",
    "\n",
    "mapadecaixa = pd.read_csv(os.getcwd() + \"\\\\MapaCaixa.csv\", encoding='ANSI', sep=',', header=0)\n",
    "mapadecaixa.head() "
   ]
  },
  {
   "cell_type": "code",
   "execution_count": null,
   "id": "0dc14c7d",
   "metadata": {},
   "outputs": [],
   "source": [
    "#Qualquer coisa que não seja numerico o Pandas exibe como objeto\n",
    "# mapadecaixa.dtypes"
   ]
  },
  {
   "cell_type": "code",
   "execution_count": null,
   "id": "23f8e0f4",
   "metadata": {},
   "outputs": [],
   "source": [
    "#Tipos de dados do DataFreme\n",
    "# type(mapadecaixa)"
   ]
  },
  {
   "cell_type": "code",
   "execution_count": null,
   "id": "e3344224",
   "metadata": {},
   "outputs": [],
   "source": [
    "#Retorna a 2 primeiras linhas\n",
    "# mapadecaixa.loc[:2] "
   ]
  },
  {
   "cell_type": "code",
   "execution_count": null,
   "id": "881b814a",
   "metadata": {},
   "outputs": [],
   "source": [
    "# mapadecaixa.columns.to_list()\n",
    "# mapadecaixa.columns"
   ]
  },
  {
   "cell_type": "code",
   "execution_count": null,
   "id": "3651810d",
   "metadata": {},
   "outputs": [],
   "source": [
    "#p = Path(os.getcwd())\n",
    "#pd.read_csv(str(p.parent.parent) + '\\\\Users\\\\lmiguel\\\\Downloads\\\\Movimentao geral - CSV.csv', encoding='ANSI', sep=',', header=0)"
   ]
  },
  {
   "cell_type": "code",
   "execution_count": null,
   "id": "22dea206",
   "metadata": {},
   "outputs": [],
   "source": [
    "# df = pd.read_csv('Movimentao geral - CSV.csv', encoding='ANSI', sep=',', header=0)\n",
    "# df.head()"
   ]
  }
 ],
 "metadata": {
  "kernelspec": {
   "display_name": "Python 3 (ipykernel)",
   "language": "python",
   "name": "python3"
  },
  "language_info": {
   "codemirror_mode": {
    "name": "ipython",
    "version": 3
   },
   "file_extension": ".py",
   "mimetype": "text/x-python",
   "name": "python",
   "nbconvert_exporter": "python",
   "pygments_lexer": "ipython3",
   "version": "3.10.2"
  }
 },
 "nbformat": 4,
 "nbformat_minor": 5
}
